{
 "cells": [
  {
   "cell_type": "markdown",
   "metadata": {},
   "source": [
    "## San Diego Street Conditions Classification"
   ]
  },
  {
   "cell_type": "markdown",
   "metadata": {},
   "source": [
    "A Cloud Computing Project by Leonid Shpaner, Jose Luis Estrada, and Kiran Singh"
   ]
  },
  {
   "cell_type": "code",
   "execution_count": 1,
   "metadata": {},
   "outputs": [],
   "source": [
    "import boto3, re, sys, math, json, os, sagemaker, urllib.request\n",
    "import io\n",
    "import sagemaker\n",
    "from sagemaker import get_execution_role\n",
    "from IPython.display import Image\n",
    "from IPython.display import display\n",
    "from time import gmtime, strftime\n",
    "from sagemaker.predictor import csv_serializer\n",
    "from pyathena import connect\n",
    "import pandas as pd\n",
    "import numpy as np\n",
    "import matplotlib.pyplot as plt\n",
    "import seaborn as sns\n",
    "from prettytable import PrettyTable \n",
    "from imblearn.over_sampling import SMOTE, ADASYN\n",
    "from sklearn.decomposition import PCA\n",
    "from sklearn.model_selection import train_test_split, \\\n",
    "RepeatedStratifiedKFold, RandomizedSearchCV\n",
    "from sklearn.metrics import roc_curve, auc, mean_squared_error,\\\n",
    "precision_score, recall_score, f1_score, accuracy_score,\\\n",
    "confusion_matrix, plot_confusion_matrix, classification_report\n",
    "from sagemaker.tuner import HyperparameterTuner\n",
    "from sklearn.linear_model import LogisticRegression\n",
    "from sklearn.ensemble import RandomForestClassifier\n",
    "from scipy.stats import loguniform\n",
    "import warnings\n",
    "warnings.filterwarnings('ignore')"
   ]
  },
  {
   "cell_type": "markdown",
   "metadata": {},
   "source": [
    "## Data Wrangling"
   ]
  },
  {
   "cell_type": "code",
   "execution_count": 2,
   "metadata": {},
   "outputs": [],
   "source": [
    "# create athena database\n",
    "sess = sagemaker.Session()\n",
    "bucket = sess.default_bucket()\n",
    "role = sagemaker.get_execution_role()\n",
    "region = boto3.Session().region_name\n",
    "# s3 = boto3.Session().client(service_name=\"s3\", region_name=region)\n",
    "\n",
    "# ec2 = boto3.Session().client(service_name=\"ec2\", region_name=region)\n",
    "# sm = boto3.Session().client(service_name=\"sagemaker\", region_name=region)"
   ]
  },
  {
   "cell_type": "code",
   "execution_count": 3,
   "metadata": {},
   "outputs": [],
   "source": [
    "ingest_create_athena_db_passed = False"
   ]
  },
  {
   "cell_type": "code",
   "execution_count": 4,
   "metadata": {},
   "outputs": [],
   "source": [
    "# set a database name\n",
    "database_name = \"watersd\""
   ]
  },
  {
   "cell_type": "code",
   "execution_count": 5,
   "metadata": {},
   "outputs": [],
   "source": [
    "# Set S3 staging directory -- this is a temporary directory used for Athena queries\n",
    "s3_staging_dir = \"s3://{0}/athena/staging\".format(bucket)"
   ]
  },
  {
   "cell_type": "code",
   "execution_count": 6,
   "metadata": {},
   "outputs": [],
   "source": [
    "conn = connect(region_name=region, s3_staging_dir=s3_staging_dir)"
   ]
  },
  {
   "cell_type": "code",
   "execution_count": 7,
   "metadata": {},
   "outputs": [
    {
     "name": "stdout",
     "output_type": "stream",
     "text": [
      "CREATE DATABASE IF NOT EXISTS watersd\n"
     ]
    },
    {
     "data": {
      "text/html": [
       "<div>\n",
       "<style scoped>\n",
       "    .dataframe tbody tr th:only-of-type {\n",
       "        vertical-align: middle;\n",
       "    }\n",
       "\n",
       "    .dataframe tbody tr th {\n",
       "        vertical-align: top;\n",
       "    }\n",
       "\n",
       "    .dataframe thead th {\n",
       "        text-align: right;\n",
       "    }\n",
       "</style>\n",
       "<table border=\"1\" class=\"dataframe\">\n",
       "  <thead>\n",
       "    <tr style=\"text-align: right;\">\n",
       "      <th></th>\n",
       "    </tr>\n",
       "  </thead>\n",
       "  <tbody>\n",
       "  </tbody>\n",
       "</table>\n",
       "</div>"
      ],
      "text/plain": [
       "Empty DataFrame\n",
       "Columns: []\n",
       "Index: []"
      ]
     },
     "execution_count": 7,
     "metadata": {},
     "output_type": "execute_result"
    }
   ],
   "source": [
    "statement = \"CREATE DATABASE IF NOT EXISTS {}\".format(database_name)\n",
    "print(statement)\n",
    "pd.read_sql(statement, conn)"
   ]
  },
  {
   "cell_type": "code",
   "execution_count": 8,
   "metadata": {},
   "outputs": [],
   "source": [
    "water_dir = 's3://waterteam1/raw_files'"
   ]
  },
  {
   "cell_type": "code",
   "execution_count": 9,
   "metadata": {},
   "outputs": [
    {
     "data": {
      "text/html": [
       "<div>\n",
       "<style scoped>\n",
       "    .dataframe tbody tr th:only-of-type {\n",
       "        vertical-align: middle;\n",
       "    }\n",
       "\n",
       "    .dataframe tbody tr th {\n",
       "        vertical-align: top;\n",
       "    }\n",
       "\n",
       "    .dataframe thead th {\n",
       "        text-align: right;\n",
       "    }\n",
       "</style>\n",
       "<table border=\"1\" class=\"dataframe\">\n",
       "  <thead>\n",
       "    <tr style=\"text-align: right;\">\n",
       "      <th></th>\n",
       "      <th>seg_id</th>\n",
       "      <th>oci</th>\n",
       "      <th>street</th>\n",
       "      <th>street_from</th>\n",
       "      <th>street_to</th>\n",
       "      <th>seg_length_ft</th>\n",
       "      <th>seg_width_ft</th>\n",
       "      <th>func_class</th>\n",
       "      <th>pvm_class</th>\n",
       "      <th>area_sq_ft</th>\n",
       "      <th>oci_desc</th>\n",
       "      <th>oci_wt</th>\n",
       "    </tr>\n",
       "  </thead>\n",
       "  <tbody>\n",
       "    <tr>\n",
       "      <th>0</th>\n",
       "      <td>SA-000003</td>\n",
       "      <td>65.14</td>\n",
       "      <td>ALLEY</td>\n",
       "      <td></td>\n",
       "      <td></td>\n",
       "      <td>772.7258</td>\n",
       "      <td>30.0</td>\n",
       "      <td>Alley</td>\n",
       "      <td>PCC Jointed Concrete</td>\n",
       "      <td>23181.773</td>\n",
       "      <td>Fair</td>\n",
       "      <td>1510060.80</td>\n",
       "    </tr>\n",
       "    <tr>\n",
       "      <th>1</th>\n",
       "      <td>SA-000004</td>\n",
       "      <td>67.45</td>\n",
       "      <td>ALLEY</td>\n",
       "      <td></td>\n",
       "      <td></td>\n",
       "      <td>196.0025</td>\n",
       "      <td>30.0</td>\n",
       "      <td>Alley</td>\n",
       "      <td>PCC Jointed Concrete</td>\n",
       "      <td>5880.075</td>\n",
       "      <td>Fair</td>\n",
       "      <td>396611.06</td>\n",
       "    </tr>\n",
       "    <tr>\n",
       "      <th>2</th>\n",
       "      <td>SA-000005</td>\n",
       "      <td>70.88</td>\n",
       "      <td>ALLEY</td>\n",
       "      <td></td>\n",
       "      <td></td>\n",
       "      <td>395.0049</td>\n",
       "      <td>30.0</td>\n",
       "      <td>Alley</td>\n",
       "      <td>PCC Jointed Concrete</td>\n",
       "      <td>11850.147</td>\n",
       "      <td>Good</td>\n",
       "      <td>839938.44</td>\n",
       "    </tr>\n",
       "    <tr>\n",
       "      <th>3</th>\n",
       "      <td>SA-000006</td>\n",
       "      <td>84.00</td>\n",
       "      <td>ALLEY</td>\n",
       "      <td></td>\n",
       "      <td></td>\n",
       "      <td>192.0025</td>\n",
       "      <td>30.0</td>\n",
       "      <td>Alley</td>\n",
       "      <td>PCC Jointed Concrete</td>\n",
       "      <td>5760.075</td>\n",
       "      <td>Good</td>\n",
       "      <td>483846.30</td>\n",
       "    </tr>\n",
       "    <tr>\n",
       "      <th>4</th>\n",
       "      <td>SA-000008</td>\n",
       "      <td>79.24</td>\n",
       "      <td>ALLEY</td>\n",
       "      <td></td>\n",
       "      <td></td>\n",
       "      <td>251.7540</td>\n",
       "      <td>30.0</td>\n",
       "      <td>Alley</td>\n",
       "      <td>PCC Jointed Concrete</td>\n",
       "      <td>7552.620</td>\n",
       "      <td>Good</td>\n",
       "      <td>598469.60</td>\n",
       "    </tr>\n",
       "  </tbody>\n",
       "</table>\n",
       "</div>"
      ],
      "text/plain": [
       "      seg_id    oci street street_from street_to  seg_length_ft  seg_width_ft  \\\n",
       "0  SA-000003  65.14  ALLEY                             772.7258          30.0   \n",
       "1  SA-000004  67.45  ALLEY                             196.0025          30.0   \n",
       "2  SA-000005  70.88  ALLEY                             395.0049          30.0   \n",
       "3  SA-000006  84.00  ALLEY                             192.0025          30.0   \n",
       "4  SA-000008  79.24  ALLEY                             251.7540          30.0   \n",
       "\n",
       "  func_class             pvm_class  area_sq_ft oci_desc      oci_wt  \n",
       "0      Alley  PCC Jointed Concrete   23181.773     Fair  1510060.80  \n",
       "1      Alley  PCC Jointed Concrete    5880.075     Fair   396611.06  \n",
       "2      Alley  PCC Jointed Concrete   11850.147     Good   839938.44  \n",
       "3      Alley  PCC Jointed Concrete    5760.075     Good   483846.30  \n",
       "4      Alley  PCC Jointed Concrete    7552.620     Good   598469.60  "
      ]
     },
     "execution_count": 9,
     "metadata": {},
     "output_type": "execute_result"
    }
   ],
   "source": [
    "# SQL statement to execute the analyte tests drinking water table\n",
    "\n",
    "table_name ='oci_2015_datasd'\n",
    "pd.read_sql(f'DROP TABLE IF EXISTS {database_name}.{table_name}', conn)\n",
    "\n",
    "\n",
    "create_table = f\"\"\"\n",
    "CREATE EXTERNAL TABLE IF NOT EXISTS {database_name}.{table_name}(\n",
    "                seg_id string,\n",
    "                oci float,\n",
    "                street string,\n",
    "                street_from string,\n",
    "                street_to string,\n",
    "                seg_length_ft float,\n",
    "                seg_width_ft float,\n",
    "                func_class string,\n",
    "                pvm_class string,\n",
    "                area_sq_ft float,\n",
    "                oci_desc string,\n",
    "                oci_wt float\n",
    "                )\n",
    "                \n",
    "                ROW FORMAT DELIMITED\n",
    "                FIELDS TERMINATED BY ','\n",
    "                LOCATION '{water_dir}/{table_name}'\n",
    "                TBLPROPERTIES ('skip.header.line.count'='1')\n",
    "\"\"\"\n",
    "\n",
    "pd.read_sql(create_table, conn)\n",
    "\n",
    "pd.read_sql(f'SELECT * FROM {database_name}.{table_name} LIMIT 5', conn)"
   ]
  },
  {
   "cell_type": "code",
   "execution_count": 10,
   "metadata": {},
   "outputs": [
    {
     "data": {
      "text/html": [
       "<div>\n",
       "<style scoped>\n",
       "    .dataframe tbody tr th:only-of-type {\n",
       "        vertical-align: middle;\n",
       "    }\n",
       "\n",
       "    .dataframe tbody tr th {\n",
       "        vertical-align: top;\n",
       "    }\n",
       "\n",
       "    .dataframe thead th {\n",
       "        text-align: right;\n",
       "    }\n",
       "</style>\n",
       "<table border=\"1\" class=\"dataframe\">\n",
       "  <thead>\n",
       "    <tr style=\"text-align: right;\">\n",
       "      <th></th>\n",
       "      <th>pve_id</th>\n",
       "      <th>seg_id</th>\n",
       "      <th>project_id</th>\n",
       "      <th>title</th>\n",
       "      <th>project_manager</th>\n",
       "      <th>project_manager_phone</th>\n",
       "      <th>status</th>\n",
       "      <th>type</th>\n",
       "      <th>resident_engineer</th>\n",
       "      <th>address_street</th>\n",
       "      <th>street_from</th>\n",
       "      <th>street_to</th>\n",
       "      <th>seg_cd</th>\n",
       "      <th>length</th>\n",
       "      <th>width</th>\n",
       "      <th>date_moratorium</th>\n",
       "      <th>date_start</th>\n",
       "      <th>date_end</th>\n",
       "      <th>paving_miles</th>\n",
       "    </tr>\n",
       "  </thead>\n",
       "  <tbody>\n",
       "    <tr>\n",
       "      <th>0</th>\n",
       "      <td>1073577074</td>\n",
       "      <td>SA-000319</td>\n",
       "      <td>UTLY</td>\n",
       "      <td>Public Works CIP</td>\n",
       "      <td>Engineering@sandiego.gov</td>\n",
       "      <td>858-627-3200</td>\n",
       "      <td>post construction</td>\n",
       "      <td>Overlay</td>\n",
       "      <td>ECP</td>\n",
       "      <td>ALLEY</td>\n",
       "      <td></td>\n",
       "      <td></td>\n",
       "      <td>2</td>\n",
       "      <td>0</td>\n",
       "      <td>NaN</td>\n",
       "      <td>2019-02-02</td>\n",
       "      <td>2019-02-02</td>\n",
       "      <td>2019-02-02</td>\n",
       "      <td>0.000000</td>\n",
       "    </tr>\n",
       "    <tr>\n",
       "      <th>1</th>\n",
       "      <td>1792486183</td>\n",
       "      <td>SA-000345</td>\n",
       "      <td>UTLY</td>\n",
       "      <td>Public Works CIP</td>\n",
       "      <td>Engineering@sandiego.gov</td>\n",
       "      <td>858-627-3200</td>\n",
       "      <td>post construction</td>\n",
       "      <td>Slurry</td>\n",
       "      <td>ECP</td>\n",
       "      <td>ALLEY</td>\n",
       "      <td></td>\n",
       "      <td></td>\n",
       "      <td>2</td>\n",
       "      <td>938</td>\n",
       "      <td>30.0</td>\n",
       "      <td>2019-01-30</td>\n",
       "      <td>2019-01-30</td>\n",
       "      <td>2019-01-30</td>\n",
       "      <td>0.177652</td>\n",
       "    </tr>\n",
       "    <tr>\n",
       "      <th>2</th>\n",
       "      <td>1173780646</td>\n",
       "      <td>SA-000375</td>\n",
       "      <td>UTLY</td>\n",
       "      <td>Public Works CIP</td>\n",
       "      <td>Engineering@sandiego.gov</td>\n",
       "      <td>858-627-3200</td>\n",
       "      <td>post construction</td>\n",
       "      <td>Slurry</td>\n",
       "      <td>ECP</td>\n",
       "      <td>ALLEY</td>\n",
       "      <td></td>\n",
       "      <td></td>\n",
       "      <td>2</td>\n",
       "      <td>674</td>\n",
       "      <td>30.0</td>\n",
       "      <td>2018-08-01</td>\n",
       "      <td>2018-08-01</td>\n",
       "      <td>2018-08-01</td>\n",
       "      <td>0.127652</td>\n",
       "    </tr>\n",
       "    <tr>\n",
       "      <th>3</th>\n",
       "      <td>1276790298</td>\n",
       "      <td>SA-000378</td>\n",
       "      <td>UTLY</td>\n",
       "      <td>Public Works CIP</td>\n",
       "      <td>Engineering@sandiego.gov</td>\n",
       "      <td>858-627-3200</td>\n",
       "      <td>post construction</td>\n",
       "      <td>Slurry</td>\n",
       "      <td>ECP</td>\n",
       "      <td>ALLEY</td>\n",
       "      <td></td>\n",
       "      <td></td>\n",
       "      <td>2</td>\n",
       "      <td>658</td>\n",
       "      <td>30.0</td>\n",
       "      <td>2018-08-01</td>\n",
       "      <td>2018-08-01</td>\n",
       "      <td>2018-08-01</td>\n",
       "      <td>0.124621</td>\n",
       "    </tr>\n",
       "    <tr>\n",
       "      <th>4</th>\n",
       "      <td>27170959</td>\n",
       "      <td>SA-001081</td>\n",
       "      <td>UTLY</td>\n",
       "      <td>Public Works CIP</td>\n",
       "      <td>Engineering@sandiego.gov</td>\n",
       "      <td>858-627-3200</td>\n",
       "      <td>post construction</td>\n",
       "      <td>Concrete</td>\n",
       "      <td>ECP</td>\n",
       "      <td>ALLEY</td>\n",
       "      <td></td>\n",
       "      <td></td>\n",
       "      <td>9</td>\n",
       "      <td>680</td>\n",
       "      <td>30.0</td>\n",
       "      <td>None</td>\n",
       "      <td>2020-08-13</td>\n",
       "      <td>2020-08-13</td>\n",
       "      <td>0.128788</td>\n",
       "    </tr>\n",
       "  </tbody>\n",
       "</table>\n",
       "</div>"
      ],
      "text/plain": [
       "       pve_id     seg_id project_id             title  \\\n",
       "0  1073577074  SA-000319       UTLY  Public Works CIP   \n",
       "1  1792486183  SA-000345       UTLY  Public Works CIP   \n",
       "2  1173780646  SA-000375       UTLY  Public Works CIP   \n",
       "3  1276790298  SA-000378       UTLY  Public Works CIP   \n",
       "4    27170959  SA-001081       UTLY  Public Works CIP   \n",
       "\n",
       "            project_manager project_manager_phone             status  \\\n",
       "0  Engineering@sandiego.gov          858-627-3200  post construction   \n",
       "1  Engineering@sandiego.gov          858-627-3200  post construction   \n",
       "2  Engineering@sandiego.gov          858-627-3200  post construction   \n",
       "3  Engineering@sandiego.gov          858-627-3200  post construction   \n",
       "4  Engineering@sandiego.gov          858-627-3200  post construction   \n",
       "\n",
       "       type resident_engineer address_street street_from street_to  seg_cd  \\\n",
       "0   Overlay               ECP          ALLEY                             2   \n",
       "1    Slurry               ECP          ALLEY                             2   \n",
       "2    Slurry               ECP          ALLEY                             2   \n",
       "3    Slurry               ECP          ALLEY                             2   \n",
       "4  Concrete               ECP          ALLEY                             9   \n",
       "\n",
       "   length  width date_moratorium  date_start    date_end  paving_miles  \n",
       "0       0    NaN      2019-02-02  2019-02-02  2019-02-02      0.000000  \n",
       "1     938   30.0      2019-01-30  2019-01-30  2019-01-30      0.177652  \n",
       "2     674   30.0      2018-08-01  2018-08-01  2018-08-01      0.127652  \n",
       "3     658   30.0      2018-08-01  2018-08-01  2018-08-01      0.124621  \n",
       "4     680   30.0            None  2020-08-13  2020-08-13      0.128788  "
      ]
     },
     "execution_count": 10,
     "metadata": {},
     "output_type": "execute_result"
    }
   ],
   "source": [
    "# SQL statement to execute the analyte tests drinking water table\n",
    "\n",
    "table_name2 ='sd_paving_datasd'\n",
    "pd.read_sql(f'DROP TABLE IF EXISTS {database_name}.{table_name2}', conn)\n",
    "\n",
    "\n",
    "create_table = f\"\"\"\n",
    "CREATE EXTERNAL TABLE IF NOT EXISTS {database_name}.{table_name2}(\n",
    "                pve_id int,\n",
    "                seg_id string,\n",
    "                project_id string,\n",
    "                title string,\n",
    "                project_manager string,\n",
    "                project_manager_phone string,\n",
    "                status string,\n",
    "                type string,\n",
    "                resident_engineer string,\n",
    "                address_street string,\n",
    "                street_from string,\n",
    "                street_to string,\n",
    "                seg_cd int,\n",
    "                length int,\n",
    "                width int,\n",
    "                date_moratorium date,\n",
    "                date_start date,\n",
    "                date_end date,\n",
    "                paving_miles float\n",
    "                )\n",
    "                \n",
    "                ROW FORMAT DELIMITED\n",
    "                FIELDS TERMINATED BY ','\n",
    "                LOCATION '{water_dir}/{table_name2}'\n",
    "                TBLPROPERTIES ('skip.header.line.count'='1')\n",
    "\"\"\"\n",
    "\n",
    "pd.read_sql(create_table, conn)\n",
    "\n",
    "pd.read_sql(f'SELECT * FROM {database_name}.{table_name2} LIMIT 5', conn)"
   ]
  },
  {
   "cell_type": "code",
   "execution_count": 11,
   "metadata": {},
   "outputs": [
    {
     "data": {
      "text/html": [
       "<div>\n",
       "<style scoped>\n",
       "    .dataframe tbody tr th:only-of-type {\n",
       "        vertical-align: middle;\n",
       "    }\n",
       "\n",
       "    .dataframe tbody tr th {\n",
       "        vertical-align: top;\n",
       "    }\n",
       "\n",
       "    .dataframe thead th {\n",
       "        text-align: right;\n",
       "    }\n",
       "</style>\n",
       "<table border=\"1\" class=\"dataframe\">\n",
       "  <thead>\n",
       "    <tr style=\"text-align: right;\">\n",
       "      <th></th>\n",
       "      <th>id</th>\n",
       "      <th>street_name</th>\n",
       "      <th>limits</th>\n",
       "      <th>northbound_count</th>\n",
       "      <th>southbound_count</th>\n",
       "      <th>eastbound_count</th>\n",
       "      <th>westbound_count</th>\n",
       "      <th>total_count</th>\n",
       "      <th>file_no</th>\n",
       "      <th>date_count</th>\n",
       "    </tr>\n",
       "  </thead>\n",
       "  <tbody>\n",
       "    <tr>\n",
       "      <th>0</th>\n",
       "      <td>01AV018207</td>\n",
       "      <td>01 AV</td>\n",
       "      <td>A ST - ASH ST</td>\n",
       "      <td>18010</td>\n",
       "      <td>None</td>\n",
       "      <td>None</td>\n",
       "      <td>None</td>\n",
       "      <td>18010</td>\n",
       "      <td>0182-07</td>\n",
       "      <td>2007-03-13</td>\n",
       "    </tr>\n",
       "    <tr>\n",
       "      <th>1</th>\n",
       "      <td>01AV015210</td>\n",
       "      <td>01 AV</td>\n",
       "      <td>A ST - ASH ST</td>\n",
       "      <td>20060</td>\n",
       "      <td>None</td>\n",
       "      <td>None</td>\n",
       "      <td>None</td>\n",
       "      <td>20060</td>\n",
       "      <td>0152-10</td>\n",
       "      <td>2010-03-18</td>\n",
       "    </tr>\n",
       "    <tr>\n",
       "      <th>2</th>\n",
       "      <td>01AV018213</td>\n",
       "      <td>01 AV</td>\n",
       "      <td>A ST - ASH ST</td>\n",
       "      <td>19597</td>\n",
       "      <td>None</td>\n",
       "      <td>None</td>\n",
       "      <td>None</td>\n",
       "      <td>19597</td>\n",
       "      <td>0182-13</td>\n",
       "      <td>2013-03-12</td>\n",
       "    </tr>\n",
       "    <tr>\n",
       "      <th>3</th>\n",
       "      <td>01AV007721</td>\n",
       "      <td>01 AV</td>\n",
       "      <td>A ST - ASH ST</td>\n",
       "      <td>10640</td>\n",
       "      <td>None</td>\n",
       "      <td>None</td>\n",
       "      <td>None</td>\n",
       "      <td>10640</td>\n",
       "      <td>0077-21</td>\n",
       "      <td>2021-03-10</td>\n",
       "    </tr>\n",
       "    <tr>\n",
       "      <th>4</th>\n",
       "      <td>01AV088812</td>\n",
       "      <td>01 AV</td>\n",
       "      <td>ASH ST - BEECH ST</td>\n",
       "      <td>2298</td>\n",
       "      <td>None</td>\n",
       "      <td>None</td>\n",
       "      <td>None</td>\n",
       "      <td>2298</td>\n",
       "      <td>0888-12</td>\n",
       "      <td>2012-12-11</td>\n",
       "    </tr>\n",
       "  </tbody>\n",
       "</table>\n",
       "</div>"
      ],
      "text/plain": [
       "           id street_name             limits  northbound_count  \\\n",
       "0  01AV018207       01 AV      A ST - ASH ST             18010   \n",
       "1  01AV015210       01 AV      A ST - ASH ST             20060   \n",
       "2  01AV018213       01 AV      A ST - ASH ST             19597   \n",
       "3  01AV007721       01 AV      A ST - ASH ST             10640   \n",
       "4  01AV088812       01 AV  ASH ST - BEECH ST              2298   \n",
       "\n",
       "  southbound_count eastbound_count westbound_count  total_count  file_no  \\\n",
       "0             None            None            None        18010  0182-07   \n",
       "1             None            None            None        20060  0152-10   \n",
       "2             None            None            None        19597  0182-13   \n",
       "3             None            None            None        10640  0077-21   \n",
       "4             None            None            None         2298  0888-12   \n",
       "\n",
       "   date_count  \n",
       "0  2007-03-13  \n",
       "1  2010-03-18  \n",
       "2  2013-03-12  \n",
       "3  2021-03-10  \n",
       "4  2012-12-11  "
      ]
     },
     "execution_count": 11,
     "metadata": {},
     "output_type": "execute_result"
    }
   ],
   "source": [
    "# SQL statement to execute the analyte tests drinking water table\n",
    "\n",
    "table_name3 ='traffic_counts_datasd'\n",
    "pd.read_sql(f'DROP TABLE IF EXISTS {database_name}.{table_name3}', conn)\n",
    "\n",
    "\n",
    "create_table = f\"\"\"\n",
    "CREATE EXTERNAL TABLE IF NOT EXISTS {database_name}.{table_name3}(\n",
    "                id string,\n",
    "                street_name string,\n",
    "                limits string,\n",
    "                northbound_count int,\n",
    "                southbound_count int,\n",
    "                eastbound_count int,\n",
    "                westbound_count int,\n",
    "                total_count int,\n",
    "                file_no string,\n",
    "                date_count date\n",
    "                )\n",
    "                \n",
    "                ROW FORMAT DELIMITED\n",
    "                FIELDS TERMINATED BY ','\n",
    "                LOCATION '{water_dir}/{table_name3}'\n",
    "                TBLPROPERTIES ('skip.header.line.count'='1')\n",
    "\"\"\"\n",
    "\n",
    "pd.read_sql(create_table, conn)\n",
    "\n",
    "pd.read_sql(f'SELECT * FROM {database_name}.{table_name3} LIMIT 5', conn)"
   ]
  },
  {
   "cell_type": "code",
   "execution_count": 12,
   "metadata": {},
   "outputs": [
    {
     "data": {
      "text/html": [
       "<div>\n",
       "<style scoped>\n",
       "    .dataframe tbody tr th:only-of-type {\n",
       "        vertical-align: middle;\n",
       "    }\n",
       "\n",
       "    .dataframe tbody tr th {\n",
       "        vertical-align: top;\n",
       "    }\n",
       "\n",
       "    .dataframe thead th {\n",
       "        text-align: right;\n",
       "    }\n",
       "</style>\n",
       "<table border=\"1\" class=\"dataframe\">\n",
       "  <thead>\n",
       "    <tr style=\"text-align: right;\">\n",
       "      <th></th>\n",
       "      <th>database_name</th>\n",
       "    </tr>\n",
       "  </thead>\n",
       "  <tbody>\n",
       "    <tr>\n",
       "      <th>0</th>\n",
       "      <td>default</td>\n",
       "    </tr>\n",
       "    <tr>\n",
       "      <th>1</th>\n",
       "      <td>dsoaws</td>\n",
       "    </tr>\n",
       "    <tr>\n",
       "      <th>2</th>\n",
       "      <td>watersd</td>\n",
       "    </tr>\n",
       "  </tbody>\n",
       "</table>\n",
       "</div>"
      ],
      "text/plain": [
       "  database_name\n",
       "0       default\n",
       "1        dsoaws\n",
       "2       watersd"
      ]
     },
     "execution_count": 12,
     "metadata": {},
     "output_type": "execute_result"
    }
   ],
   "source": [
    "statement = \"SHOW DATABASES\"\n",
    "df_show = pd.read_sql(statement, conn)\n",
    "df_show.head(5)"
   ]
  },
  {
   "cell_type": "code",
   "execution_count": 13,
   "metadata": {},
   "outputs": [],
   "source": [
    "if database_name in df_show.values:\n",
    "    ingest_create_athena_db_passed = True"
   ]
  },
  {
   "cell_type": "code",
   "execution_count": 14,
   "metadata": {},
   "outputs": [
    {
     "name": "stdout",
     "output_type": "stream",
     "text": [
      "Stored 'ingest_create_athena_db_passed' (bool)\n"
     ]
    }
   ],
   "source": [
    "%store ingest_create_athena_db_passed"
   ]
  },
  {
   "cell_type": "code",
   "execution_count": 15,
   "metadata": {},
   "outputs": [
    {
     "data": {
      "text/html": [
       "<div>\n",
       "<style scoped>\n",
       "    .dataframe tbody tr th:only-of-type {\n",
       "        vertical-align: middle;\n",
       "    }\n",
       "\n",
       "    .dataframe tbody tr th {\n",
       "        vertical-align: top;\n",
       "    }\n",
       "\n",
       "    .dataframe thead th {\n",
       "        text-align: right;\n",
       "    }\n",
       "</style>\n",
       "<table border=\"1\" class=\"dataframe\">\n",
       "  <thead>\n",
       "    <tr style=\"text-align: right;\">\n",
       "      <th></th>\n",
       "      <th>seg_id</th>\n",
       "      <th>oci</th>\n",
       "      <th>street</th>\n",
       "      <th>street_from</th>\n",
       "      <th>street_to</th>\n",
       "      <th>seg_length_ft</th>\n",
       "      <th>seg_width_ft</th>\n",
       "      <th>func_class</th>\n",
       "      <th>pvm_class</th>\n",
       "      <th>area_sq_ft</th>\n",
       "      <th>...</th>\n",
       "      <th>address_street</th>\n",
       "      <th>street_from</th>\n",
       "      <th>street_to</th>\n",
       "      <th>seg_cd</th>\n",
       "      <th>length</th>\n",
       "      <th>width</th>\n",
       "      <th>date_moratorium</th>\n",
       "      <th>date_start</th>\n",
       "      <th>date_end</th>\n",
       "      <th>paving_miles</th>\n",
       "    </tr>\n",
       "  </thead>\n",
       "  <tbody>\n",
       "    <tr>\n",
       "      <th>0</th>\n",
       "      <td>SA-000345</td>\n",
       "      <td>34.14</td>\n",
       "      <td>ALLEY</td>\n",
       "      <td></td>\n",
       "      <td></td>\n",
       "      <td>937.9261</td>\n",
       "      <td>30.0</td>\n",
       "      <td>Alley</td>\n",
       "      <td>AC Improved</td>\n",
       "      <td>28137.783</td>\n",
       "      <td>...</td>\n",
       "      <td>ALLEY</td>\n",
       "      <td></td>\n",
       "      <td></td>\n",
       "      <td>2</td>\n",
       "      <td>938</td>\n",
       "      <td>30</td>\n",
       "      <td>2019-01-30</td>\n",
       "      <td>2019-01-30</td>\n",
       "      <td>2019-01-30</td>\n",
       "      <td>0.177652</td>\n",
       "    </tr>\n",
       "    <tr>\n",
       "      <th>1</th>\n",
       "      <td>SA-000375</td>\n",
       "      <td>97.25</td>\n",
       "      <td>ALLEY</td>\n",
       "      <td></td>\n",
       "      <td></td>\n",
       "      <td>673.3209</td>\n",
       "      <td>30.0</td>\n",
       "      <td>Alley</td>\n",
       "      <td>PCC Jointed Concrete</td>\n",
       "      <td>20199.627</td>\n",
       "      <td>...</td>\n",
       "      <td>ALLEY</td>\n",
       "      <td></td>\n",
       "      <td></td>\n",
       "      <td>2</td>\n",
       "      <td>674</td>\n",
       "      <td>30</td>\n",
       "      <td>2018-08-01</td>\n",
       "      <td>2018-08-01</td>\n",
       "      <td>2018-08-01</td>\n",
       "      <td>0.127652</td>\n",
       "    </tr>\n",
       "    <tr>\n",
       "      <th>2</th>\n",
       "      <td>SA-000378</td>\n",
       "      <td>62.67</td>\n",
       "      <td>ALLEY</td>\n",
       "      <td></td>\n",
       "      <td></td>\n",
       "      <td>657.2000</td>\n",
       "      <td>30.0</td>\n",
       "      <td>Alley</td>\n",
       "      <td>PCC Jointed Concrete</td>\n",
       "      <td>19716.000</td>\n",
       "      <td>...</td>\n",
       "      <td>ALLEY</td>\n",
       "      <td></td>\n",
       "      <td></td>\n",
       "      <td>2</td>\n",
       "      <td>658</td>\n",
       "      <td>30</td>\n",
       "      <td>2018-08-01</td>\n",
       "      <td>2018-08-01</td>\n",
       "      <td>2018-08-01</td>\n",
       "      <td>0.124621</td>\n",
       "    </tr>\n",
       "    <tr>\n",
       "      <th>3</th>\n",
       "      <td>SA-001081</td>\n",
       "      <td>68.86</td>\n",
       "      <td>ALLEY</td>\n",
       "      <td></td>\n",
       "      <td></td>\n",
       "      <td>679.1060</td>\n",
       "      <td>30.0</td>\n",
       "      <td>Alley</td>\n",
       "      <td>PCC Jointed Concrete</td>\n",
       "      <td>20373.180</td>\n",
       "      <td>...</td>\n",
       "      <td>ALLEY</td>\n",
       "      <td></td>\n",
       "      <td></td>\n",
       "      <td>9</td>\n",
       "      <td>680</td>\n",
       "      <td>30</td>\n",
       "      <td>None</td>\n",
       "      <td>2020-08-13</td>\n",
       "      <td>2020-08-13</td>\n",
       "      <td>0.128788</td>\n",
       "    </tr>\n",
       "    <tr>\n",
       "      <th>4</th>\n",
       "      <td>SA-001083</td>\n",
       "      <td>28.67</td>\n",
       "      <td>ALLEY</td>\n",
       "      <td></td>\n",
       "      <td></td>\n",
       "      <td>660.0917</td>\n",
       "      <td>30.0</td>\n",
       "      <td>Alley</td>\n",
       "      <td>PCC Jointed Concrete</td>\n",
       "      <td>19802.752</td>\n",
       "      <td>...</td>\n",
       "      <td>ALLEY</td>\n",
       "      <td></td>\n",
       "      <td></td>\n",
       "      <td>9</td>\n",
       "      <td>661</td>\n",
       "      <td>30</td>\n",
       "      <td>None</td>\n",
       "      <td>2020-07-31</td>\n",
       "      <td>2020-07-31</td>\n",
       "      <td>0.125189</td>\n",
       "    </tr>\n",
       "  </tbody>\n",
       "</table>\n",
       "<p>5 rows × 31 columns</p>\n",
       "</div>"
      ],
      "text/plain": [
       "      seg_id    oci street  street_from  street_to  seg_length_ft  \\\n",
       "0  SA-000345  34.14  ALLEY                               937.9261   \n",
       "1  SA-000375  97.25  ALLEY                               673.3209   \n",
       "2  SA-000378  62.67  ALLEY                               657.2000   \n",
       "3  SA-001081  68.86  ALLEY                               679.1060   \n",
       "4  SA-001083  28.67  ALLEY                               660.0917   \n",
       "\n",
       "   seg_width_ft func_class             pvm_class  area_sq_ft  ...  \\\n",
       "0          30.0      Alley           AC Improved   28137.783  ...   \n",
       "1          30.0      Alley  PCC Jointed Concrete   20199.627  ...   \n",
       "2          30.0      Alley  PCC Jointed Concrete   19716.000  ...   \n",
       "3          30.0      Alley  PCC Jointed Concrete   20373.180  ...   \n",
       "4          30.0      Alley  PCC Jointed Concrete   19802.752  ...   \n",
       "\n",
       "  address_street  street_from  street_to seg_cd length width date_moratorium  \\\n",
       "0          ALLEY                              2    938    30      2019-01-30   \n",
       "1          ALLEY                              2    674    30      2018-08-01   \n",
       "2          ALLEY                              2    658    30      2018-08-01   \n",
       "3          ALLEY                              9    680    30            None   \n",
       "4          ALLEY                              9    661    30            None   \n",
       "\n",
       "   date_start    date_end paving_miles  \n",
       "0  2019-01-30  2019-01-30     0.177652  \n",
       "1  2018-08-01  2018-08-01     0.127652  \n",
       "2  2018-08-01  2018-08-01     0.124621  \n",
       "3  2020-08-13  2020-08-13     0.128788  \n",
       "4  2020-07-31  2020-07-31     0.125189  \n",
       "\n",
       "[5 rows x 31 columns]"
      ]
     },
     "execution_count": 15,
     "metadata": {},
     "output_type": "execute_result"
    }
   ],
   "source": [
    "pd.read_sql(f'SELECT * FROM {database_name}.{table_name} t1 INNER JOIN \\\n",
    "                            {database_name}.{table_name2} t2 ON t1.seg_id \\\n",
    "                            = t2.seg_id LIMIT 5', conn)"
   ]
  },
  {
   "cell_type": "code",
   "execution_count": 16,
   "metadata": {},
   "outputs": [],
   "source": [
    "df = pd.read_sql(f'SELECT * FROM (SELECT * FROM {database_name}.{table_name} \\\n",
    "                           t1 INNER JOIN {database_name}.{table_name2} t2 \\\n",
    "                           ON t1.seg_id = t2.seg_id) m1 LEFT JOIN (SELECT street_name, \\\n",
    "                                                                   SUM(total_count) total_count \\\n",
    "                                                                   FROM {database_name}.{table_name3} \\\n",
    "                                                                   GROUP BY street_name) t3 \\\n",
    "                           ON m1.address_street = t3.street_name', conn)"
   ]
  },
  {
   "cell_type": "code",
   "execution_count": 17,
   "metadata": {},
   "outputs": [
    {
     "data": {
      "text/html": [
       "<div>\n",
       "<style scoped>\n",
       "    .dataframe tbody tr th:only-of-type {\n",
       "        vertical-align: middle;\n",
       "    }\n",
       "\n",
       "    .dataframe tbody tr th {\n",
       "        vertical-align: top;\n",
       "    }\n",
       "\n",
       "    .dataframe thead th {\n",
       "        text-align: right;\n",
       "    }\n",
       "</style>\n",
       "<table border=\"1\" class=\"dataframe\">\n",
       "  <thead>\n",
       "    <tr style=\"text-align: right;\">\n",
       "      <th></th>\n",
       "      <th>seg_id</th>\n",
       "      <th>oci</th>\n",
       "      <th>street</th>\n",
       "      <th>street_from</th>\n",
       "      <th>street_to</th>\n",
       "      <th>seg_length_ft</th>\n",
       "      <th>seg_width_ft</th>\n",
       "      <th>func_class</th>\n",
       "      <th>pvm_class</th>\n",
       "      <th>area_sq_ft</th>\n",
       "      <th>...</th>\n",
       "      <th>street_to</th>\n",
       "      <th>seg_cd</th>\n",
       "      <th>length</th>\n",
       "      <th>width</th>\n",
       "      <th>date_moratorium</th>\n",
       "      <th>date_start</th>\n",
       "      <th>date_end</th>\n",
       "      <th>paving_miles</th>\n",
       "      <th>street_name</th>\n",
       "      <th>total_count</th>\n",
       "    </tr>\n",
       "  </thead>\n",
       "  <tbody>\n",
       "    <tr>\n",
       "      <th>0</th>\n",
       "      <td>SA-000345</td>\n",
       "      <td>34.14</td>\n",
       "      <td>ALLEY</td>\n",
       "      <td></td>\n",
       "      <td></td>\n",
       "      <td>937.9261</td>\n",
       "      <td>30.0</td>\n",
       "      <td>Alley</td>\n",
       "      <td>AC Improved</td>\n",
       "      <td>28137.783</td>\n",
       "      <td>...</td>\n",
       "      <td></td>\n",
       "      <td>2</td>\n",
       "      <td>938</td>\n",
       "      <td>30</td>\n",
       "      <td>2019-01-30</td>\n",
       "      <td>2019-01-30</td>\n",
       "      <td>2019-01-30</td>\n",
       "      <td>0.177652</td>\n",
       "      <td>None</td>\n",
       "      <td>NaN</td>\n",
       "    </tr>\n",
       "    <tr>\n",
       "      <th>1</th>\n",
       "      <td>SA-000375</td>\n",
       "      <td>97.25</td>\n",
       "      <td>ALLEY</td>\n",
       "      <td></td>\n",
       "      <td></td>\n",
       "      <td>673.3209</td>\n",
       "      <td>30.0</td>\n",
       "      <td>Alley</td>\n",
       "      <td>PCC Jointed Concrete</td>\n",
       "      <td>20199.627</td>\n",
       "      <td>...</td>\n",
       "      <td></td>\n",
       "      <td>2</td>\n",
       "      <td>674</td>\n",
       "      <td>30</td>\n",
       "      <td>2018-08-01</td>\n",
       "      <td>2018-08-01</td>\n",
       "      <td>2018-08-01</td>\n",
       "      <td>0.127652</td>\n",
       "      <td>None</td>\n",
       "      <td>NaN</td>\n",
       "    </tr>\n",
       "    <tr>\n",
       "      <th>2</th>\n",
       "      <td>SA-000378</td>\n",
       "      <td>62.67</td>\n",
       "      <td>ALLEY</td>\n",
       "      <td></td>\n",
       "      <td></td>\n",
       "      <td>657.2000</td>\n",
       "      <td>30.0</td>\n",
       "      <td>Alley</td>\n",
       "      <td>PCC Jointed Concrete</td>\n",
       "      <td>19716.000</td>\n",
       "      <td>...</td>\n",
       "      <td></td>\n",
       "      <td>2</td>\n",
       "      <td>658</td>\n",
       "      <td>30</td>\n",
       "      <td>2018-08-01</td>\n",
       "      <td>2018-08-01</td>\n",
       "      <td>2018-08-01</td>\n",
       "      <td>0.124621</td>\n",
       "      <td>None</td>\n",
       "      <td>NaN</td>\n",
       "    </tr>\n",
       "    <tr>\n",
       "      <th>3</th>\n",
       "      <td>SA-001081</td>\n",
       "      <td>68.86</td>\n",
       "      <td>ALLEY</td>\n",
       "      <td></td>\n",
       "      <td></td>\n",
       "      <td>679.1060</td>\n",
       "      <td>30.0</td>\n",
       "      <td>Alley</td>\n",
       "      <td>PCC Jointed Concrete</td>\n",
       "      <td>20373.180</td>\n",
       "      <td>...</td>\n",
       "      <td></td>\n",
       "      <td>9</td>\n",
       "      <td>680</td>\n",
       "      <td>30</td>\n",
       "      <td>None</td>\n",
       "      <td>2020-08-13</td>\n",
       "      <td>2020-08-13</td>\n",
       "      <td>0.128788</td>\n",
       "      <td>None</td>\n",
       "      <td>NaN</td>\n",
       "    </tr>\n",
       "    <tr>\n",
       "      <th>4</th>\n",
       "      <td>SA-001083</td>\n",
       "      <td>28.67</td>\n",
       "      <td>ALLEY</td>\n",
       "      <td></td>\n",
       "      <td></td>\n",
       "      <td>660.0917</td>\n",
       "      <td>30.0</td>\n",
       "      <td>Alley</td>\n",
       "      <td>PCC Jointed Concrete</td>\n",
       "      <td>19802.752</td>\n",
       "      <td>...</td>\n",
       "      <td></td>\n",
       "      <td>9</td>\n",
       "      <td>661</td>\n",
       "      <td>30</td>\n",
       "      <td>None</td>\n",
       "      <td>2020-07-31</td>\n",
       "      <td>2020-07-31</td>\n",
       "      <td>0.125189</td>\n",
       "      <td>None</td>\n",
       "      <td>NaN</td>\n",
       "    </tr>\n",
       "  </tbody>\n",
       "</table>\n",
       "<p>5 rows × 33 columns</p>\n",
       "</div>"
      ],
      "text/plain": [
       "      seg_id    oci street street_from street_to  seg_length_ft  seg_width_ft  \\\n",
       "0  SA-000345  34.14  ALLEY                             937.9261          30.0   \n",
       "1  SA-000375  97.25  ALLEY                             673.3209          30.0   \n",
       "2  SA-000378  62.67  ALLEY                             657.2000          30.0   \n",
       "3  SA-001081  68.86  ALLEY                             679.1060          30.0   \n",
       "4  SA-001083  28.67  ALLEY                             660.0917          30.0   \n",
       "\n",
       "  func_class             pvm_class  area_sq_ft  ... street_to  seg_cd  length  \\\n",
       "0      Alley           AC Improved   28137.783  ...                 2     938   \n",
       "1      Alley  PCC Jointed Concrete   20199.627  ...                 2     674   \n",
       "2      Alley  PCC Jointed Concrete   19716.000  ...                 2     658   \n",
       "3      Alley  PCC Jointed Concrete   20373.180  ...                 9     680   \n",
       "4      Alley  PCC Jointed Concrete   19802.752  ...                 9     661   \n",
       "\n",
       "  width date_moratorium  date_start    date_end paving_miles street_name  \\\n",
       "0    30      2019-01-30  2019-01-30  2019-01-30     0.177652        None   \n",
       "1    30      2018-08-01  2018-08-01  2018-08-01     0.127652        None   \n",
       "2    30      2018-08-01  2018-08-01  2018-08-01     0.124621        None   \n",
       "3    30            None  2020-08-13  2020-08-13     0.128788        None   \n",
       "4    30            None  2020-07-31  2020-07-31     0.125189        None   \n",
       "\n",
       "  total_count  \n",
       "0         NaN  \n",
       "1         NaN  \n",
       "2         NaN  \n",
       "3         NaN  \n",
       "4         NaN  \n",
       "\n",
       "[5 rows x 33 columns]"
      ]
     },
     "execution_count": 17,
     "metadata": {},
     "output_type": "execute_result"
    }
   ],
   "source": [
    "df.head(5)"
   ]
  },
  {
   "cell_type": "code",
   "execution_count": 18,
   "metadata": {},
   "outputs": [],
   "source": [
    "# remove duplicated columns\n",
    "df = df.loc[:,~df.columns.duplicated()]"
   ]
  },
  {
   "cell_type": "code",
   "execution_count": 19,
   "metadata": {},
   "outputs": [],
   "source": [
    "# create flat .csv file from originally\n",
    "# merged dataframe\n",
    "# df.to_csv('original_merge.csv')"
   ]
  },
  {
   "cell_type": "markdown",
   "metadata": {},
   "source": [
    "## Exploratory Data Analysis (EDA)"
   ]
  },
  {
   "cell_type": "code",
   "execution_count": 20,
   "metadata": {},
   "outputs": [
    {
     "name": "stdout",
     "output_type": "stream",
     "text": [
      "Number of Rows: 23005\n",
      "Number of Columns: 30 \n",
      "\n"
     ]
    },
    {
     "data": {
      "text/html": [
       "<div>\n",
       "<style scoped>\n",
       "    .dataframe tbody tr th:only-of-type {\n",
       "        vertical-align: middle;\n",
       "    }\n",
       "\n",
       "    .dataframe tbody tr th {\n",
       "        vertical-align: top;\n",
       "    }\n",
       "\n",
       "    .dataframe thead th {\n",
       "        text-align: right;\n",
       "    }\n",
       "</style>\n",
       "<table border=\"1\" class=\"dataframe\">\n",
       "  <thead>\n",
       "    <tr style=\"text-align: right;\">\n",
       "      <th></th>\n",
       "      <th>Column/Variable</th>\n",
       "      <th>Data Type</th>\n",
       "      <th># of Nulls</th>\n",
       "    </tr>\n",
       "  </thead>\n",
       "  <tbody>\n",
       "    <tr>\n",
       "      <th>0</th>\n",
       "      <td>seg_id</td>\n",
       "      <td>object</td>\n",
       "      <td>0</td>\n",
       "    </tr>\n",
       "    <tr>\n",
       "      <th>1</th>\n",
       "      <td>oci</td>\n",
       "      <td>float64</td>\n",
       "      <td>0</td>\n",
       "    </tr>\n",
       "    <tr>\n",
       "      <th>2</th>\n",
       "      <td>street</td>\n",
       "      <td>object</td>\n",
       "      <td>0</td>\n",
       "    </tr>\n",
       "    <tr>\n",
       "      <th>3</th>\n",
       "      <td>street_from</td>\n",
       "      <td>object</td>\n",
       "      <td>0</td>\n",
       "    </tr>\n",
       "    <tr>\n",
       "      <th>4</th>\n",
       "      <td>street_to</td>\n",
       "      <td>object</td>\n",
       "      <td>0</td>\n",
       "    </tr>\n",
       "    <tr>\n",
       "      <th>5</th>\n",
       "      <td>seg_length_ft</td>\n",
       "      <td>float64</td>\n",
       "      <td>0</td>\n",
       "    </tr>\n",
       "    <tr>\n",
       "      <th>6</th>\n",
       "      <td>seg_width_ft</td>\n",
       "      <td>float64</td>\n",
       "      <td>0</td>\n",
       "    </tr>\n",
       "    <tr>\n",
       "      <th>7</th>\n",
       "      <td>func_class</td>\n",
       "      <td>object</td>\n",
       "      <td>0</td>\n",
       "    </tr>\n",
       "    <tr>\n",
       "      <th>8</th>\n",
       "      <td>pvm_class</td>\n",
       "      <td>object</td>\n",
       "      <td>0</td>\n",
       "    </tr>\n",
       "    <tr>\n",
       "      <th>9</th>\n",
       "      <td>area_sq_ft</td>\n",
       "      <td>float64</td>\n",
       "      <td>0</td>\n",
       "    </tr>\n",
       "    <tr>\n",
       "      <th>10</th>\n",
       "      <td>oci_desc</td>\n",
       "      <td>object</td>\n",
       "      <td>0</td>\n",
       "    </tr>\n",
       "    <tr>\n",
       "      <th>11</th>\n",
       "      <td>oci_wt</td>\n",
       "      <td>float64</td>\n",
       "      <td>0</td>\n",
       "    </tr>\n",
       "    <tr>\n",
       "      <th>12</th>\n",
       "      <td>pve_id</td>\n",
       "      <td>int64</td>\n",
       "      <td>0</td>\n",
       "    </tr>\n",
       "    <tr>\n",
       "      <th>13</th>\n",
       "      <td>project_id</td>\n",
       "      <td>object</td>\n",
       "      <td>0</td>\n",
       "    </tr>\n",
       "    <tr>\n",
       "      <th>14</th>\n",
       "      <td>title</td>\n",
       "      <td>object</td>\n",
       "      <td>0</td>\n",
       "    </tr>\n",
       "    <tr>\n",
       "      <th>15</th>\n",
       "      <td>project_manager</td>\n",
       "      <td>object</td>\n",
       "      <td>0</td>\n",
       "    </tr>\n",
       "    <tr>\n",
       "      <th>16</th>\n",
       "      <td>project_manager_phone</td>\n",
       "      <td>object</td>\n",
       "      <td>0</td>\n",
       "    </tr>\n",
       "    <tr>\n",
       "      <th>17</th>\n",
       "      <td>status</td>\n",
       "      <td>object</td>\n",
       "      <td>0</td>\n",
       "    </tr>\n",
       "    <tr>\n",
       "      <th>18</th>\n",
       "      <td>type</td>\n",
       "      <td>object</td>\n",
       "      <td>0</td>\n",
       "    </tr>\n",
       "    <tr>\n",
       "      <th>19</th>\n",
       "      <td>resident_engineer</td>\n",
       "      <td>object</td>\n",
       "      <td>0</td>\n",
       "    </tr>\n",
       "    <tr>\n",
       "      <th>20</th>\n",
       "      <td>address_street</td>\n",
       "      <td>object</td>\n",
       "      <td>0</td>\n",
       "    </tr>\n",
       "    <tr>\n",
       "      <th>21</th>\n",
       "      <td>seg_cd</td>\n",
       "      <td>int64</td>\n",
       "      <td>0</td>\n",
       "    </tr>\n",
       "    <tr>\n",
       "      <th>22</th>\n",
       "      <td>length</td>\n",
       "      <td>int64</td>\n",
       "      <td>0</td>\n",
       "    </tr>\n",
       "    <tr>\n",
       "      <th>23</th>\n",
       "      <td>width</td>\n",
       "      <td>int64</td>\n",
       "      <td>0</td>\n",
       "    </tr>\n",
       "    <tr>\n",
       "      <th>24</th>\n",
       "      <td>date_moratorium</td>\n",
       "      <td>object</td>\n",
       "      <td>4426</td>\n",
       "    </tr>\n",
       "    <tr>\n",
       "      <th>25</th>\n",
       "      <td>date_start</td>\n",
       "      <td>object</td>\n",
       "      <td>1</td>\n",
       "    </tr>\n",
       "    <tr>\n",
       "      <th>26</th>\n",
       "      <td>date_end</td>\n",
       "      <td>object</td>\n",
       "      <td>7</td>\n",
       "    </tr>\n",
       "    <tr>\n",
       "      <th>27</th>\n",
       "      <td>paving_miles</td>\n",
       "      <td>float64</td>\n",
       "      <td>0</td>\n",
       "    </tr>\n",
       "    <tr>\n",
       "      <th>28</th>\n",
       "      <td>street_name</td>\n",
       "      <td>object</td>\n",
       "      <td>16874</td>\n",
       "    </tr>\n",
       "    <tr>\n",
       "      <th>29</th>\n",
       "      <td>total_count</td>\n",
       "      <td>float64</td>\n",
       "      <td>16874</td>\n",
       "    </tr>\n",
       "  </tbody>\n",
       "</table>\n",
       "</div>"
      ],
      "text/plain": [
       "          Column/Variable Data Type  # of Nulls\n",
       "0                  seg_id    object           0\n",
       "1                     oci   float64           0\n",
       "2                  street    object           0\n",
       "3             street_from    object           0\n",
       "4               street_to    object           0\n",
       "5           seg_length_ft   float64           0\n",
       "6            seg_width_ft   float64           0\n",
       "7              func_class    object           0\n",
       "8               pvm_class    object           0\n",
       "9              area_sq_ft   float64           0\n",
       "10               oci_desc    object           0\n",
       "11                 oci_wt   float64           0\n",
       "12                 pve_id     int64           0\n",
       "13             project_id    object           0\n",
       "14                  title    object           0\n",
       "15        project_manager    object           0\n",
       "16  project_manager_phone    object           0\n",
       "17                 status    object           0\n",
       "18                   type    object           0\n",
       "19      resident_engineer    object           0\n",
       "20         address_street    object           0\n",
       "21                 seg_cd     int64           0\n",
       "22                 length     int64           0\n",
       "23                  width     int64           0\n",
       "24        date_moratorium    object        4426\n",
       "25             date_start    object           1\n",
       "26               date_end    object           7\n",
       "27           paving_miles   float64           0\n",
       "28            street_name    object       16874\n",
       "29            total_count   float64       16874"
      ]
     },
     "execution_count": 20,
     "metadata": {},
     "output_type": "execute_result"
    }
   ],
   "source": [
    "# get number of rows and columns\n",
    "print('Number of Rows:', df.shape[0])\n",
    "print('Number of Columns:', df.shape[1], '\\n')\n",
    "\n",
    "# inspect datatypes and nulls\n",
    "data_types = df.dtypes\n",
    "data_types = pd.DataFrame(data_types)\n",
    "data_types = data_types.assign(Null_Values = \n",
    "                               df.isnull().sum())\n",
    "data_types.reset_index(inplace = True)\n",
    "data_types.rename(columns={0:'Data Type',\n",
    "                          'index': 'Column/Variable',\n",
    "                          'Null_Values': \"# of Nulls\"})"
   ]
  },
  {
   "cell_type": "markdown",
   "metadata": {},
   "source": [
    "### Bias Exploration\n",
    "To explore potential areas of bias, we will endeavor to trace class imbalance on the target feature of \"oci_desc.\""
   ]
  },
  {
   "cell_type": "code",
   "execution_count": 21,
   "metadata": {},
   "outputs": [
    {
     "data": {
      "text/html": [
       "<table>\n",
       "    <thead>\n",
       "        <tr>\n",
       "            <th>Fair Condition</th>\n",
       "            <th>Good Condition</th>\n",
       "            <th>Poor Condition</th>\n",
       "            <th>Total</th>\n",
       "        </tr>\n",
       "    </thead>\n",
       "    <tbody>\n",
       "        <tr>\n",
       "            <td>6105</td>\n",
       "            <td>15758</td>\n",
       "            <td>1142</td>\n",
       "            <td>23005</td>\n",
       "        </tr>\n",
       "    </tbody>\n",
       "</table>"
      ],
      "text/plain": [
       "+----------------+----------------+----------------+-------+\n",
       "| Fair Condition | Good Condition | Poor Condition | Total |\n",
       "+----------------+----------------+----------------+-------+\n",
       "|      6105      |     15758      |      1142      | 23005 |\n",
       "+----------------+----------------+----------------+-------+"
      ]
     },
     "execution_count": 21,
     "metadata": {},
     "output_type": "execute_result"
    }
   ],
   "source": [
    "oci_desc_fair = df['oci_desc'].value_counts()['Fair']\n",
    "oci_desc_good = df['oci_desc'].value_counts()['Good']\n",
    "oci_desc_poor = df['oci_desc'].value_counts()['Poor']\n",
    "oci_desc_total = oci_desc_fair  + oci_desc_good + oci_desc_poor\n",
    "\n",
    "table1 = PrettyTable() # build a table\n",
    "table1.field_names = ['Fair Condition', 'Good Condition', \n",
    "                      'Poor Condition', 'Total']\n",
    "table1.add_row([oci_desc_fair, oci_desc_good, oci_desc_poor, \n",
    "                oci_desc_total])\n",
    "table1"
   ]
  },
  {
   "cell_type": "code",
   "execution_count": 22,
   "metadata": {},
   "outputs": [
    {
     "name": "stdout",
     "output_type": "stream",
     "text": [
      "68.0 % of streets are in good condition \n",
      "27.0 % of streets are in fair condition \n",
      "5.0 % of streets are in poor condition \n"
     ]
    }
   ],
   "source": [
    "perc_good = oci_desc_good /(oci_desc_total) \n",
    "perc_fair = oci_desc_fair /(oci_desc_total)\n",
    "perc_poor = oci_desc_poor /(oci_desc_total)\n",
    "print(round(perc_good, 2)*100, '% of streets '\n",
    "                       'are in good condition ')\n",
    "print(round(perc_fair, 2)*100, '% of streets '\n",
    "                       'are in fair condition ')\n",
    "print(round(perc_poor, 2)*100, '% of streets '\n",
    "                       'are in poor condition ')"
   ]
  },
  {
   "cell_type": "markdown",
   "metadata": {},
   "source": [
    "Considerably more than half of the streets are in good condition. A little less than a third are in fair condition. Only 5% are in poor condition."
   ]
  },
  {
   "cell_type": "code",
   "execution_count": 23,
   "metadata": {},
   "outputs": [
    {
     "data": {
      "image/png": "[encoded data removed]",
      "text/plain": [
       "<Figure size 432x288 with 1 Axes>"
      ]
     },
     "metadata": {
      "needs_background": "light"
     },
     "output_type": "display_data"
    },
    {
     "data": {
      "text/plain": [
       "Good    15758\n",
       "Fair     6105\n",
       "Poor     1142\n",
       "Name: oci_desc, dtype: int64"
      ]
     },
     "execution_count": 23,
     "metadata": {},
     "output_type": "execute_result"
    }
   ],
   "source": [
    "# accidents injury bar graph\n",
    "conditions = df['oci_desc'].value_counts()\n",
    "fig = plt.figure()\n",
    "conditions.plot.bar(x ='lab', y='val', rot=0, width=0.99, \n",
    "                         color=\"steelblue\")\n",
    "plt.title ('Bar Graph of San Diego Street Conditions')\n",
    "plt.xlabel('Condition') \n",
    "plt.ylabel('Count')\n",
    "plt.show()\n",
    "\n",
    "conditions"
   ]
  },
  {
   "cell_type": "markdown",
   "metadata": {},
   "source": [
    "Whereas a method can be used to classify street conditions into multiple classes, it is easier to re-classify streets in “fair” and “good” condition into one category in comparison with the poor class. This, in turn, becomes a binary classification problem. Thus, there are now 21,863 streets in good condition and 1,142 in poor condition (only 5% of all streets). This presents a definitive example of class imbalance."
   ]
  },
  {
   "cell_type": "code",
   "execution_count": 24,
   "metadata": {},
   "outputs": [
    {
     "data": {
      "text/plain": [
       "1    21863\n",
       "0     1142\n",
       "Name: oci_cat, dtype: int64"
      ]
     },
     "execution_count": 24,
     "metadata": {},
     "output_type": "execute_result"
    }
   ],
   "source": [
    "df['oci_cat'] = df['oci_desc'].map({'Good':1, 'Fair':1,\n",
    "                                    'Poor':0})\n",
    "cond = df['oci_cat'].value_counts()\n",
    "cond\n"
   ]
  },
  {
   "cell_type": "code",
   "execution_count": 25,
   "metadata": {},
   "outputs": [
    {
     "data": {
      "image/png": "[encoded data removed]",
      "text/plain": [
       "<Figure size 432x288 with 1 Axes>"
      ]
     },
     "metadata": {
      "needs_background": "light"
     },
     "output_type": "display_data"
    },
    {
     "data": {
      "text/plain": [
       "1    21863\n",
       "0     1142\n",
       "Name: oci_cat, dtype: int64"
      ]
     },
     "execution_count": 25,
     "metadata": {},
     "output_type": "execute_result"
    }
   ],
   "source": [
    "# oci ratings bar graph\n",
    "fig = plt.figure()\n",
    "cond.plot.bar(x ='lab', y='val', rot=0, width=0.99, \n",
    "                         color=\"steelblue\")\n",
    "plt.title ('Bar Graph of San Diego Street Conditions')\n",
    "plt.xlabel('Condition') \n",
    "plt.ylabel('Count')\n",
    "plt.show()\n",
    "\n",
    "cond"
   ]
  },
  {
   "cell_type": "code",
   "execution_count": 26,
   "metadata": {},
   "outputs": [
    {
     "data": {
      "text/html": [
       "<div>\n",
       "<style scoped>\n",
       "    .dataframe tbody tr th:only-of-type {\n",
       "        vertical-align: middle;\n",
       "    }\n",
       "\n",
       "    .dataframe tbody tr th {\n",
       "        vertical-align: top;\n",
       "    }\n",
       "\n",
       "    .dataframe thead th {\n",
       "        text-align: right;\n",
       "    }\n",
       "</style>\n",
       "<table border=\"1\" class=\"dataframe\">\n",
       "  <thead>\n",
       "    <tr style=\"text-align: right;\">\n",
       "      <th></th>\n",
       "      <th>oci</th>\n",
       "      <th>OCI Range</th>\n",
       "    </tr>\n",
       "  </thead>\n",
       "  <tbody>\n",
       "    <tr>\n",
       "      <th>0</th>\n",
       "      <td>34.14</td>\n",
       "      <td>30 - 35</td>\n",
       "    </tr>\n",
       "    <tr>\n",
       "      <th>1</th>\n",
       "      <td>97.25</td>\n",
       "      <td>90 - 95</td>\n",
       "    </tr>\n",
       "    <tr>\n",
       "      <th>2</th>\n",
       "      <td>62.67</td>\n",
       "      <td>60 - 65</td>\n",
       "    </tr>\n",
       "    <tr>\n",
       "      <th>3</th>\n",
       "      <td>68.86</td>\n",
       "      <td>60 - 65</td>\n",
       "    </tr>\n",
       "    <tr>\n",
       "      <th>4</th>\n",
       "      <td>28.67</td>\n",
       "      <td>20 - 25</td>\n",
       "    </tr>\n",
       "    <tr>\n",
       "      <th>...</th>\n",
       "      <td>...</td>\n",
       "      <td>...</td>\n",
       "    </tr>\n",
       "    <tr>\n",
       "      <th>23000</th>\n",
       "      <td>93.40</td>\n",
       "      <td>90 - 95</td>\n",
       "    </tr>\n",
       "    <tr>\n",
       "      <th>23001</th>\n",
       "      <td>91.01</td>\n",
       "      <td>90 - 95</td>\n",
       "    </tr>\n",
       "    <tr>\n",
       "      <th>23002</th>\n",
       "      <td>97.26</td>\n",
       "      <td>90 - 95</td>\n",
       "    </tr>\n",
       "    <tr>\n",
       "      <th>23003</th>\n",
       "      <td>95.00</td>\n",
       "      <td>90 - 95</td>\n",
       "    </tr>\n",
       "    <tr>\n",
       "      <th>23004</th>\n",
       "      <td>80.83</td>\n",
       "      <td>80 - 85</td>\n",
       "    </tr>\n",
       "  </tbody>\n",
       "</table>\n",
       "<p>23005 rows × 2 columns</p>\n",
       "</div>"
      ],
      "text/plain": [
       "         oci OCI Range\n",
       "0      34.14   30 - 35\n",
       "1      97.25   90 - 95\n",
       "2      62.67   60 - 65\n",
       "3      68.86   60 - 65\n",
       "4      28.67   20 - 25\n",
       "...      ...       ...\n",
       "23000  93.40   90 - 95\n",
       "23001  91.01   90 - 95\n",
       "23002  97.26   90 - 95\n",
       "23003  95.00   90 - 95\n",
       "23004  80.83   80 - 85\n",
       "\n",
       "[23005 rows x 2 columns]"
      ]
     },
     "execution_count": 26,
     "metadata": {},
     "output_type": "execute_result"
    }
   ],
   "source": [
    "# cast oci info into range of values\n",
    "labels = [ \"{0} - {1}\".format(i, i + 5) for i in range(0, 100, 10) ]\n",
    "df['OCI Range'] = pd.cut(df.oci, range(0, 105, 10), \n",
    "                                right=False, \n",
    "                                labels=labels).astype(object)\n",
    "# inspect the new dataframe with this info\n",
    "df[['oci', 'OCI Range']]"
   ]
  },
  {
   "cell_type": "code",
   "execution_count": 27,
   "metadata": {},
   "outputs": [
    {
     "name": "stdout",
     "output_type": "stream",
     "text": [
      "\u001b[1mStreet Conditions by Condition Index Range\u001b[1m\n"
     ]
    },
    {
     "data": {
      "text/html": [
       "<div>\n",
       "<style scoped>\n",
       "    .dataframe tbody tr th:only-of-type {\n",
       "        vertical-align: middle;\n",
       "    }\n",
       "\n",
       "    .dataframe tbody tr th {\n",
       "        vertical-align: top;\n",
       "    }\n",
       "\n",
       "    .dataframe thead th {\n",
       "        text-align: right;\n",
       "    }\n",
       "</style>\n",
       "<table border=\"1\" class=\"dataframe\">\n",
       "  <thead>\n",
       "    <tr style=\"text-align: right;\">\n",
       "      <th></th>\n",
       "      <th>Good</th>\n",
       "      <th>Fair</th>\n",
       "      <th>Poor</th>\n",
       "      <th>Total</th>\n",
       "    </tr>\n",
       "  </thead>\n",
       "  <tbody>\n",
       "    <tr>\n",
       "      <th>70 - 75</th>\n",
       "      <td>4766.0</td>\n",
       "      <td>3.0</td>\n",
       "      <td>0.0</td>\n",
       "      <td>4769.0</td>\n",
       "    </tr>\n",
       "    <tr>\n",
       "      <th>80 - 85</th>\n",
       "      <td>7341.0</td>\n",
       "      <td>0.0</td>\n",
       "      <td>0.0</td>\n",
       "      <td>7341.0</td>\n",
       "    </tr>\n",
       "    <tr>\n",
       "      <th>90 - 95</th>\n",
       "      <td>3541.0</td>\n",
       "      <td>0.0</td>\n",
       "      <td>0.0</td>\n",
       "      <td>3541.0</td>\n",
       "    </tr>\n",
       "    <tr>\n",
       "      <th>40 - 45</th>\n",
       "      <td>0.0</td>\n",
       "      <td>1095.0</td>\n",
       "      <td>0.0</td>\n",
       "      <td>1095.0</td>\n",
       "    </tr>\n",
       "    <tr>\n",
       "      <th>50 - 55</th>\n",
       "      <td>0.0</td>\n",
       "      <td>1685.0</td>\n",
       "      <td>0.0</td>\n",
       "      <td>1685.0</td>\n",
       "    </tr>\n",
       "    <tr>\n",
       "      <th>60 - 65</th>\n",
       "      <td>0.0</td>\n",
       "      <td>3322.0</td>\n",
       "      <td>0.0</td>\n",
       "      <td>3322.0</td>\n",
       "    </tr>\n",
       "    <tr>\n",
       "      <th>0 - 5</th>\n",
       "      <td>0.0</td>\n",
       "      <td>0.0</td>\n",
       "      <td>37.0</td>\n",
       "      <td>37.0</td>\n",
       "    </tr>\n",
       "    <tr>\n",
       "      <th>10 - 15</th>\n",
       "      <td>0.0</td>\n",
       "      <td>0.0</td>\n",
       "      <td>135.0</td>\n",
       "      <td>135.0</td>\n",
       "    </tr>\n",
       "    <tr>\n",
       "      <th>20 - 25</th>\n",
       "      <td>0.0</td>\n",
       "      <td>0.0</td>\n",
       "      <td>259.0</td>\n",
       "      <td>259.0</td>\n",
       "    </tr>\n",
       "    <tr>\n",
       "      <th>30 - 35</th>\n",
       "      <td>0.0</td>\n",
       "      <td>0.0</td>\n",
       "      <td>711.0</td>\n",
       "      <td>711.0</td>\n",
       "    </tr>\n",
       "    <tr>\n",
       "      <th>Total</th>\n",
       "      <td>15648.0</td>\n",
       "      <td>6105.0</td>\n",
       "      <td>1142.0</td>\n",
       "      <td>22895.0</td>\n",
       "    </tr>\n",
       "  </tbody>\n",
       "</table>\n",
       "</div>"
      ],
      "text/plain": [
       "            Good    Fair    Poor    Total\n",
       "70 - 75   4766.0     3.0     0.0   4769.0\n",
       "80 - 85   7341.0     0.0     0.0   7341.0\n",
       "90 - 95   3541.0     0.0     0.0   3541.0\n",
       "40 - 45      0.0  1095.0     0.0   1095.0\n",
       "50 - 55      0.0  1685.0     0.0   1685.0\n",
       "60 - 65      0.0  3322.0     0.0   3322.0\n",
       "0 - 5        0.0     0.0    37.0     37.0\n",
       "10 - 15      0.0     0.0   135.0    135.0\n",
       "20 - 25      0.0     0.0   259.0    259.0\n",
       "30 - 35      0.0     0.0   711.0    711.0\n",
       "Total    15648.0  6105.0  1142.0  22895.0"
      ]
     },
     "execution_count": 27,
     "metadata": {},
     "output_type": "execute_result"
    }
   ],
   "source": [
    "print(\"\\033[1m\"+'Street Conditions by Condition Index Range'+\"\\033[1m\")\n",
    "def oci_cond():\n",
    "    oci_desc_good = df.loc[df.oci_desc == 'Good'].groupby(\n",
    "                               ['OCI Range'])[['oci_desc']].count()\n",
    "    oci_desc_good.rename(columns = {'oci_desc':'Good'}, inplace=True)\n",
    "    oci_desc_fair = df.loc[df.oci_desc == 'Fair'].groupby(\n",
    "                               ['OCI Range'])[['oci_desc']].count()\n",
    "    oci_desc_fair.rename(columns = {'oci_desc':'Fair'}, inplace=True)\n",
    "    oci_desc_poor = df.loc[df.oci_desc == 'Poor'].groupby(\n",
    "                               ['OCI Range'])[['oci_desc']].count()\n",
    "    oci_desc_poor.rename(columns = {'oci_desc':'Poor'}, inplace=True)\n",
    "    oci_desc_comb = pd.concat([oci_desc_good, oci_desc_fair, oci_desc_poor], \n",
    "    axis = 1)\n",
    "    # sum row totals\n",
    "    oci_desc_comb.loc['Total']= oci_desc_comb.sum(numeric_only=True, axis=0)\n",
    "    # sum column totals\n",
    "    oci_desc_comb.loc[:,'Total'] = oci_desc_comb.sum(numeric_only=True, axis=1)\n",
    "    oci_desc_comb.fillna(0, inplace = True)\n",
    "    return oci_desc_comb.style.format(\"{:,.0f}\")\n",
    "\n",
    "oci_cond = oci_cond().data # retrieve dataframe\n",
    "oci_cond"
   ]
  },
  {
   "cell_type": "code",
   "execution_count": 28,
   "metadata": {},
   "outputs": [
    {
     "data": {
      "image/png": "[encoded data removed]",
      "text/plain": [
       "<Figure size 432x288 with 1 Axes>"
      ]
     },
     "metadata": {
      "needs_background": "light"
     },
     "output_type": "display_data"
    }
   ],
   "source": [
    "oci_plt = oci_cond['Total'][0:8].sort_values(ascending=False)\n",
    "oci_plt.plot(kind='bar', width=0.90)\n",
    "plt.title('Street Conditions by Index Range')\n",
    "plt.xlabel('Index Range')\n",
    "plt.ylabel('# of Streets')\n",
    "plt.show()"
   ]
  },
  {
   "cell_type": "markdown",
   "metadata": {},
   "source": [
    "### Summary Statistics"
   ]
  },
  {
   "cell_type": "code",
   "execution_count": 29,
   "metadata": {},
   "outputs": [
    {
     "data": {
      "text/html": [
       "<div>\n",
       "<style scoped>\n",
       "    .dataframe tbody tr th:only-of-type {\n",
       "        vertical-align: middle;\n",
       "    }\n",
       "\n",
       "    .dataframe tbody tr th {\n",
       "        vertical-align: top;\n",
       "    }\n",
       "\n",
       "    .dataframe thead th {\n",
       "        text-align: right;\n",
       "    }\n",
       "</style>\n",
       "<table border=\"1\" class=\"dataframe\">\n",
       "  <thead>\n",
       "    <tr style=\"text-align: right;\">\n",
       "      <th></th>\n",
       "      <th>count</th>\n",
       "      <th>mean</th>\n",
       "      <th>std</th>\n",
       "      <th>min</th>\n",
       "      <th>25%</th>\n",
       "      <th>50%</th>\n",
       "      <th>75%</th>\n",
       "      <th>max</th>\n",
       "    </tr>\n",
       "  </thead>\n",
       "  <tbody>\n",
       "    <tr>\n",
       "      <th>oci</th>\n",
       "      <td>23005.0</td>\n",
       "      <td>74.791413</td>\n",
       "      <td>16.784048</td>\n",
       "      <td>0.0</td>\n",
       "      <td>66.3</td>\n",
       "      <td>79.06</td>\n",
       "      <td>87.3</td>\n",
       "      <td>100.0</td>\n",
       "    </tr>\n",
       "  </tbody>\n",
       "</table>\n",
       "</div>"
      ],
      "text/plain": [
       "       count       mean        std  min   25%    50%   75%    max\n",
       "oci  23005.0  74.791413  16.784048  0.0  66.3  79.06  87.3  100.0"
      ]
     },
     "execution_count": 29,
     "metadata": {},
     "output_type": "execute_result"
    }
   ],
   "source": [
    "# summary statistics\n",
    "summ_stats = pd.DataFrame(df['oci'].describe()).T\n",
    "summ_stats"
   ]
  },
  {
   "cell_type": "code",
   "execution_count": 30,
   "metadata": {},
   "outputs": [
    {
     "name": "stdout",
     "output_type": "stream",
     "text": [
      "Low Outlier: 34.8\n",
      "High Outlier: 118.8\n"
     ]
    }
   ],
   "source": [
    "IQR = summ_stats['75%'][0] - summ_stats['25%'][0]\n",
    "low_outlier = summ_stats['25%'][0] - 1.5*(IQR)\n",
    "high_outlier = summ_stats['75%'][0] + 1.5*(IQR)\n",
    "print('Low Outlier:', low_outlier)\n",
    "print('High Outlier:', high_outlier)"
   ]
  },
  {
   "cell_type": "code",
   "execution_count": 31,
   "metadata": {},
   "outputs": [
    {
     "name": "stdout",
     "output_type": "stream",
     "text": [
      "\u001b[1mOverall Condition Index (OCI) Summary\u001b[1m\n"
     ]
    },
    {
     "data": {
      "text/html": [
       "<div>\n",
       "<style scoped>\n",
       "    .dataframe tbody tr th:only-of-type {\n",
       "        vertical-align: middle;\n",
       "    }\n",
       "\n",
       "    .dataframe tbody tr th {\n",
       "        vertical-align: top;\n",
       "    }\n",
       "\n",
       "    .dataframe thead th {\n",
       "        text-align: right;\n",
       "    }\n",
       "</style>\n",
       "<table border=\"1\" class=\"dataframe\">\n",
       "  <thead>\n",
       "    <tr style=\"text-align: right;\">\n",
       "      <th></th>\n",
       "      <th>Mean</th>\n",
       "      <th>Median</th>\n",
       "      <th>Standard Deviation</th>\n",
       "      <th>Minimum</th>\n",
       "      <th>Maximum</th>\n",
       "    </tr>\n",
       "    <tr>\n",
       "      <th>OCI Range</th>\n",
       "      <th></th>\n",
       "      <th></th>\n",
       "      <th></th>\n",
       "      <th></th>\n",
       "      <th></th>\n",
       "    </tr>\n",
       "  </thead>\n",
       "  <tbody>\n",
       "    <tr>\n",
       "      <th>0 - 5</th>\n",
       "      <td>6.13</td>\n",
       "      <td>8.00</td>\n",
       "      <td>3.70</td>\n",
       "      <td>0.00</td>\n",
       "      <td>9.69</td>\n",
       "    </tr>\n",
       "    <tr>\n",
       "      <th>10 - 15</th>\n",
       "      <td>15.66</td>\n",
       "      <td>16.40</td>\n",
       "      <td>2.82</td>\n",
       "      <td>10.11</td>\n",
       "      <td>19.84</td>\n",
       "    </tr>\n",
       "    <tr>\n",
       "      <th>20 - 25</th>\n",
       "      <td>25.77</td>\n",
       "      <td>26.17</td>\n",
       "      <td>2.91</td>\n",
       "      <td>20.12</td>\n",
       "      <td>29.96</td>\n",
       "    </tr>\n",
       "    <tr>\n",
       "      <th>30 - 35</th>\n",
       "      <td>35.63</td>\n",
       "      <td>36.04</td>\n",
       "      <td>2.80</td>\n",
       "      <td>30.04</td>\n",
       "      <td>39.98</td>\n",
       "    </tr>\n",
       "    <tr>\n",
       "      <th>40 - 45</th>\n",
       "      <td>45.37</td>\n",
       "      <td>45.58</td>\n",
       "      <td>2.88</td>\n",
       "      <td>40.00</td>\n",
       "      <td>49.98</td>\n",
       "    </tr>\n",
       "    <tr>\n",
       "      <th>50 - 55</th>\n",
       "      <td>55.62</td>\n",
       "      <td>56.00</td>\n",
       "      <td>2.88</td>\n",
       "      <td>50.00</td>\n",
       "      <td>59.98</td>\n",
       "    </tr>\n",
       "    <tr>\n",
       "      <th>60 - 65</th>\n",
       "      <td>65.56</td>\n",
       "      <td>65.80</td>\n",
       "      <td>2.82</td>\n",
       "      <td>60.00</td>\n",
       "      <td>69.99</td>\n",
       "    </tr>\n",
       "    <tr>\n",
       "      <th>70 - 75</th>\n",
       "      <td>75.11</td>\n",
       "      <td>75.16</td>\n",
       "      <td>2.97</td>\n",
       "      <td>70.00</td>\n",
       "      <td>79.99</td>\n",
       "    </tr>\n",
       "    <tr>\n",
       "      <th>80 - 85</th>\n",
       "      <td>85.14</td>\n",
       "      <td>85.15</td>\n",
       "      <td>2.84</td>\n",
       "      <td>80.00</td>\n",
       "      <td>89.99</td>\n",
       "    </tr>\n",
       "    <tr>\n",
       "      <th>90 - 95</th>\n",
       "      <td>93.44</td>\n",
       "      <td>92.89</td>\n",
       "      <td>2.57</td>\n",
       "      <td>90.00</td>\n",
       "      <td>99.33</td>\n",
       "    </tr>\n",
       "    <tr>\n",
       "      <th>Total</th>\n",
       "      <td>503.42</td>\n",
       "      <td>507.19</td>\n",
       "      <td>29.18</td>\n",
       "      <td>450.27</td>\n",
       "      <td>548.73</td>\n",
       "    </tr>\n",
       "  </tbody>\n",
       "</table>\n",
       "</div>"
      ],
      "text/plain": [
       "            Mean  Median  Standard Deviation  Minimum  Maximum\n",
       "OCI Range                                                     \n",
       "0 - 5       6.13    8.00                3.70     0.00     9.69\n",
       "10 - 15    15.66   16.40                2.82    10.11    19.84\n",
       "20 - 25    25.77   26.17                2.91    20.12    29.96\n",
       "30 - 35    35.63   36.04                2.80    30.04    39.98\n",
       "40 - 45    45.37   45.58                2.88    40.00    49.98\n",
       "50 - 55    55.62   56.00                2.88    50.00    59.98\n",
       "60 - 65    65.56   65.80                2.82    60.00    69.99\n",
       "70 - 75    75.11   75.16                2.97    70.00    79.99\n",
       "80 - 85    85.14   85.15                2.84    80.00    89.99\n",
       "90 - 95    93.44   92.89                2.57    90.00    99.33\n",
       "Total     503.42  507.19               29.18   450.27   548.73"
      ]
     },
     "execution_count": 31,
     "metadata": {},
     "output_type": "execute_result"
    }
   ],
   "source": [
    "print(\"\\033[1m\"+'Overall Condition Index (OCI) Summary'+\"\\033[1m\")\n",
    "def oci_by_range():\n",
    "    pd.options.display.float_format = '{:,.2f}'.format\n",
    "    new = df.groupby('OCI Range')['oci']\\\n",
    "    .agg([\"mean\", \"median\", \"std\", \"min\", \"max\"])\n",
    "    new.loc['Total'] = new.sum(numeric_only=True, axis=0)\n",
    "    column_rename = {'mean': 'Mean', 'median': 'Median',\n",
    "                     'std': 'Standard Deviation',\\\n",
    "                     'min':'Minimum','max': 'Maximum'}\n",
    "    dfsummary = new.rename(columns = column_rename)\n",
    "    return dfsummary\n",
    "oci_by_range = oci_by_range()\n",
    "oci_by_range"
   ]
  },
  {
   "cell_type": "markdown",
   "metadata": {},
   "source": [
    "### Histogram Distributions"
   ]
  },
  {
   "cell_type": "code",
   "execution_count": 32,
   "metadata": {},
   "outputs": [
    {
     "data": {
      "image/png": "[encoded data removed]",
      "text/plain": [
       "<Figure size 1296x864 with 12 Axes>"
      ]
     },
     "metadata": {
      "needs_background": "light"
     },
     "output_type": "display_data"
    }
   ],
   "source": [
    "# histograms\n",
    "df.hist(grid=False, figsize=(18,12))\n",
    "plt.show()"
   ]
  },
  {
   "cell_type": "markdown",
   "metadata": {},
   "source": [
    "### Boxplot Distribution (OCI)"
   ]
  },
  {
   "cell_type": "code",
   "execution_count": 33,
   "metadata": {},
   "outputs": [
    {
     "name": "stdout",
     "output_type": "stream",
     "text": [
      "\u001b[1mBoxplot Distribution\u001b[1m\n"
     ]
    },
    {
     "data": {
      "image/png": "[encoded data removed]",
      "text/plain": [
       "<Figure size 720x108 with 1 Axes>"
      ]
     },
     "metadata": {
      "needs_background": "light"
     },
     "output_type": "display_data"
    },
    {
     "name": "stdout",
     "output_type": "stream",
     "text": [
      "The first quartile is 66.3. \n",
      "The third quartile is 87.3. \n",
      "The IQR is 21.0.\n",
      "The mean is 74.79. \n",
      "The standard deviation is 16.78. \n",
      "The median is 79.06. \n"
     ]
    }
   ],
   "source": [
    "# selected boxplot distribution for oci values\n",
    "print(\"\\033[1m\"+'Boxplot Distribution'+\"\\033[1m\")\n",
    "\n",
    "# Boxplot of age as one way of showing distribution\n",
    "fig = plt.figure(figsize = (10,1.5))\n",
    "plt.title ('Boxplot: Overall Condition Index (OCI)')\n",
    "plt.xlabel('Speed Limit')\n",
    "plt.ylabel('Value')\n",
    "sns.boxplot(data=df['oci'], \n",
    "            palette=\"coolwarm\", orient='h', \n",
    "            linewidth=2.5)\n",
    "plt.show()\n",
    "\n",
    "IQR = summ_stats['75%'][0] - summ_stats['25%'][0]\n",
    "\n",
    "print('The first quartile is %s. '%summ_stats['25%'][0])\n",
    "print('The third quartile is %s. '%summ_stats['75%'][0])\n",
    "print('The IQR is %s.'%round(IQR,2))\n",
    "print('The mean is %s. '%round(summ_stats['mean'][0],2))\n",
    "print('The standard deviation is %s. '%round(summ_stats['std'][0],2))\n",
    "print('The median is %s. '%round(summ_stats['50%'][0],2))"
   ]
  },
  {
   "cell_type": "markdown",
   "metadata": {},
   "source": [
    "### Correlation Matrix"
   ]
  },
  {
   "cell_type": "code",
   "execution_count": 34,
   "metadata": {},
   "outputs": [
    {
     "data": {
      "image/png": "[encoded data removed]",
      "text/plain": [
       "<Figure size 720x720 with 2 Axes>"
      ]
     },
     "metadata": {
      "needs_background": "light"
     },
     "output_type": "display_data"
    }
   ],
   "source": [
    "# assign correlation function to new variable\n",
    "corr = df.corr()\n",
    "matrix = np.triu(corr) # for triangular matrix\n",
    "plt.figure(figsize=(10,10))\n",
    "# parse corr variable intro triangular matrix\n",
    "sns.heatmap(df.corr(method='pearson'), \n",
    "            annot=True, linewidths=.5, \n",
    "            cmap=\"coolwarm\", mask=matrix,\n",
    "            square = True, \n",
    "            cbar_kws={'label': 'Correlation Index'}, \n",
    "            vmin=-1, vmax=1)\n",
    "plt.show()"
   ]
  },
  {
   "cell_type": "markdown",
   "metadata": {},
   "source": [
    "### Multicollinearity\n",
    "\n",
    "Let us narrow our focus by removing highly correlated predictors and passing the rest into a new dataframe."
   ]
  },
  {
   "cell_type": "code",
   "execution_count": 35,
   "metadata": {},
   "outputs": [
    {
     "name": "stdout",
     "output_type": "stream",
     "text": [
      "These are the columns prescribed to be dropped: ['area_sq_ft', 'oci_wt', 'length', 'width', 'paving_miles']\n"
     ]
    }
   ],
   "source": [
    "cor_matrix = df.corr().abs()\n",
    "upper_tri = cor_matrix.where(np.triu(np.ones(cor_matrix.shape),\n",
    "                                     k=1).astype(np.bool))\n",
    "\n",
    "to_drop = [column for column in upper_tri.columns if \n",
    "           any(upper_tri[column] > 0.75)]\n",
    "print('These are the columns prescribed to be dropped: %s'%to_drop)"
   ]
  },
  {
   "cell_type": "markdown",
   "metadata": {},
   "source": [
    "## Pre-Processing"
   ]
  },
  {
   "cell_type": "markdown",
   "metadata": {},
   "source": [
    "Based on the prescribed output of the multicollinearity outcome, we should remove `area_sq_ft`, `oci_wt`, `length`, `width`, `paving_miles`, respectively. However, area in square feet is derived from length (*x*) width values, and converted to paving miles. Removing all of these features is not necessary. We can keep area in square feet, as long as we remove the rest."
   ]
  },
  {
   "cell_type": "markdown",
   "metadata": {},
   "source": [
    "### Feature Engineering"
   ]
  },
  {
   "cell_type": "markdown",
   "metadata": {},
   "source": [
    "The start date is subtracted from the end date and converted to number of days as one column."
   ]
  },
  {
   "cell_type": "code",
   "execution_count": 36,
   "metadata": {},
   "outputs": [],
   "source": [
    "df['date_end'] = pd.to_datetime(df['date_end'])\n",
    "df['date_start'] = pd.to_datetime(df['date_start'])\n",
    "# 7 rows with missing values are dropped in the following line\n",
    "day_diff = df.dropna(subset=['date_end', 'date_start'],inplace=True) \n",
    "df['day_diff'] = (df['date_end'] - df['date_start']).dt.days.astype(int)"
   ]
  },
  {
   "cell_type": "markdown",
   "metadata": {},
   "source": [
    "The residential, collector, major, prime, local, and alley functional classes are converted to dummy variables."
   ]
  },
  {
   "cell_type": "code",
   "execution_count": 37,
   "metadata": {},
   "outputs": [],
   "source": [
    "df['func_class'].value_counts()\n",
    "df['func_cat'] = df['func_class'].map({'Residential': 1, \n",
    "                                       'Collector': 2,\n",
    "                                       'Major': 3, 'Prime':4,\n",
    "                                       'Local':5, 'Alley':6})"
   ]
  },
  {
   "cell_type": "markdown",
   "metadata": {},
   "source": [
    "The AC Improved, PCC Jointed Concrete, AC Unimproved, and UnSurfaced pavement classes are converted to dummy variables."
   ]
  },
  {
   "cell_type": "code",
   "execution_count": 38,
   "metadata": {},
   "outputs": [],
   "source": [
    "df['pvm_class'].value_counts()\n",
    "df['pvm_cat'] = df['pvm_class'].map({'AC Improved': 1, \n",
    "                                     'PCC Jointed Concrete': 2,\n",
    "                                     'AC Unimproved': 3, \n",
    "                                     'UnSurfaced':4})"
   ]
  },
  {
   "cell_type": "markdown",
   "metadata": {},
   "source": [
    "The current status of the job (i.e., post construction, design, bid/award, construction, and planning) is also converted to dummy variables."
   ]
  },
  {
   "cell_type": "code",
   "execution_count": 39,
   "metadata": {},
   "outputs": [],
   "source": [
    "df['status'].value_counts()\n",
    "df['status_cat'] = df['status'].map({'post construction': 1, \n",
    "                                     'design': 2,\n",
    "                                     'bid / award': 3, \n",
    "                                     'construction':4,\n",
    "                                     'planning': 5})"
   ]
  },
  {
   "cell_type": "markdown",
   "metadata": {},
   "source": [
    "### Dropping Non-Useful/Re-classed Columns"
   ]
  },
  {
   "cell_type": "markdown",
   "metadata": {},
   "source": [
    "Columns with explicit titles (i.e., names) and non-convertible/non-meaningful strings are dropped. Redundant columns (columns that have been cast to dummy variables) have also been dropped in conjunction with the index column which serves no purpose for this experiment."
   ]
  },
  {
   "cell_type": "code",
   "execution_count": 40,
   "metadata": {},
   "outputs": [],
   "source": [
    "# drop unnecessary columns\n",
    "\n",
    "df = df.drop(columns=['street_from','street_to', \n",
    "                      'street_name','seg_id', 'street', \n",
    "                      'pve_id', 'title','project_manager', \n",
    "                      'project_manager_phone', 'project_id',\n",
    "                      'resident_engineer', 'address_street', \n",
    "                      'date_moratorium', 'OCI Range', 'total_count'])\n",
    "\n",
    "df = df.reset_index(drop=True)\n",
    "\n",
    "# drop variables exhibiting multicollinearity\n",
    "df = df.drop(columns=['seg_length_ft', 'seg_width_ft', \n",
    "                      'length', 'width', 'paving_miles',\n",
    "                      'oci_wt'])\n",
    "\n",
    "# drop re-classed columns\n",
    "df = df.drop(columns=['func_class', 'pvm_class', 'status', \n",
    "                      'type','date_end', 'date_start', \n",
    "                      'oci_desc'])"
   ]
  },
  {
   "cell_type": "markdown",
   "metadata": {},
   "source": [
    "The original dataframe is copied into a new dataframe *df1* in order to continue the final steps in the preprocessing endeavor. This is to avoid any mis-steps or adverse/unintended effects on the original dataframe."
   ]
  },
  {
   "cell_type": "code",
   "execution_count": 41,
   "metadata": {},
   "outputs": [],
   "source": [
    "# create new dataframe for final pre-processing steps\n",
    "df1 = df.copy()"
   ]
  },
  {
   "cell_type": "markdown",
   "metadata": {},
   "source": [
    "One consequence of pre-processing data is that additional missing values may be brought into the mix, so one final sanity check for this phenomenom is commenced as follows."
   ]
  },
  {
   "cell_type": "code",
   "execution_count": 42,
   "metadata": {},
   "outputs": [
    {
     "data": {
      "text/plain": [
       "Series([], dtype: int64)"
      ]
     },
     "execution_count": 42,
     "metadata": {},
     "output_type": "execute_result"
    }
   ],
   "source": [
    "df_check = df.isna().sum()\n",
    "df_check[df_check>0]"
   ]
  },
  {
   "cell_type": "code",
   "execution_count": 43,
   "metadata": {},
   "outputs": [
    {
     "name": "stdout",
     "output_type": "stream",
     "text": [
      "These are the columns prescribed to be dropped: []\n"
     ]
    }
   ],
   "source": [
    "cor_matrix = df.corr().abs()\n",
    "upper_tri = cor_matrix.where(np.triu(np.ones(cor_matrix.shape),\n",
    "                                     k=1).astype(np.bool))\n",
    "\n",
    "to_drop = [column for column in upper_tri.columns if \n",
    "           any(upper_tri[column] > 0.75)]\n",
    "print('These are the columns prescribed to be dropped: %s'%to_drop)"
   ]
  },
  {
   "cell_type": "markdown",
   "metadata": {},
   "source": [
    "### Handling Class Imbalance"
   ]
  },
  {
   "cell_type": "markdown",
   "metadata": {},
   "source": [
    "Multiple methods for balancing a dataset exist like “undersampling the majority classes” (Fregly & Barth, 2021, p. 178). To account for the large gap (95%) of mis-classed data on the “poor” condition class, “oversampling the minority class up to the majority class” (p. 179) is commenced. However, such endeavor cannot proceed in good faith without the unsupervised dimensionality reduction technique of Principal Component Analysis (PCA), which is carried out “to compact the dataset and eliminate irrelevant Features” (Naseriparsa & Kashani, 2014, p. 33). In this case, a new dataframe is reduced down into the first two principal components since the largest percent variance explained exists therein. "
   ]
  },
  {
   "cell_type": "code",
   "execution_count": 44,
   "metadata": {},
   "outputs": [],
   "source": [
    "# the first two principal components are used\n",
    "pca = PCA(n_components=2, random_state=777)\n",
    "data_2d = pd.DataFrame(pca.fit_transform(df1.iloc[:,0:9]))"
   ]
  },
  {
   "cell_type": "markdown",
   "metadata": {},
   "source": [
    "The dataframe is prepared for scatterplot analysis as follows."
   ]
  },
  {
   "cell_type": "code",
   "execution_count": 45,
   "metadata": {},
   "outputs": [
    {
     "data": {
      "text/html": [
       "<div>\n",
       "<style scoped>\n",
       "    .dataframe tbody tr th:only-of-type {\n",
       "        vertical-align: middle;\n",
       "    }\n",
       "\n",
       "    .dataframe tbody tr th {\n",
       "        vertical-align: top;\n",
       "    }\n",
       "\n",
       "    .dataframe thead th {\n",
       "        text-align: right;\n",
       "    }\n",
       "</style>\n",
       "<table border=\"1\" class=\"dataframe\">\n",
       "  <thead>\n",
       "    <tr style=\"text-align: right;\">\n",
       "      <th></th>\n",
       "      <th>x</th>\n",
       "      <th>y</th>\n",
       "      <th>oci_cat</th>\n",
       "    </tr>\n",
       "  </thead>\n",
       "  <tbody>\n",
       "    <tr>\n",
       "      <th>0</th>\n",
       "      <td>7,986.11</td>\n",
       "      <td>-38.95</td>\n",
       "      <td>0</td>\n",
       "    </tr>\n",
       "    <tr>\n",
       "      <th>1</th>\n",
       "      <td>47.96</td>\n",
       "      <td>-40.17</td>\n",
       "      <td>1</td>\n",
       "    </tr>\n",
       "    <tr>\n",
       "      <th>2</th>\n",
       "      <td>-435.67</td>\n",
       "      <td>-39.63</td>\n",
       "      <td>1</td>\n",
       "    </tr>\n",
       "    <tr>\n",
       "      <th>3</th>\n",
       "      <td>221.51</td>\n",
       "      <td>-39.71</td>\n",
       "      <td>1</td>\n",
       "    </tr>\n",
       "    <tr>\n",
       "      <th>4</th>\n",
       "      <td>-348.92</td>\n",
       "      <td>-39.08</td>\n",
       "      <td>0</td>\n",
       "    </tr>\n",
       "    <tr>\n",
       "      <th>...</th>\n",
       "      <td>...</td>\n",
       "      <td>...</td>\n",
       "      <td>...</td>\n",
       "    </tr>\n",
       "    <tr>\n",
       "      <th>22993</th>\n",
       "      <td>-15,801.67</td>\n",
       "      <td>-40.53</td>\n",
       "      <td>1</td>\n",
       "    </tr>\n",
       "    <tr>\n",
       "      <th>22994</th>\n",
       "      <td>12,768.33</td>\n",
       "      <td>114.26</td>\n",
       "      <td>1</td>\n",
       "    </tr>\n",
       "    <tr>\n",
       "      <th>22995</th>\n",
       "      <td>9,128.33</td>\n",
       "      <td>114.06</td>\n",
       "      <td>1</td>\n",
       "    </tr>\n",
       "    <tr>\n",
       "      <th>22996</th>\n",
       "      <td>-12,991.67</td>\n",
       "      <td>-40.48</td>\n",
       "      <td>1</td>\n",
       "    </tr>\n",
       "    <tr>\n",
       "      <th>22997</th>\n",
       "      <td>-12,800.19</td>\n",
       "      <td>-40.25</td>\n",
       "      <td>1</td>\n",
       "    </tr>\n",
       "  </tbody>\n",
       "</table>\n",
       "<p>22998 rows × 3 columns</p>\n",
       "</div>"
      ],
      "text/plain": [
       "               x      y  oci_cat\n",
       "0       7,986.11 -38.95        0\n",
       "1          47.96 -40.17        1\n",
       "2        -435.67 -39.63        1\n",
       "3         221.51 -39.71        1\n",
       "4        -348.92 -39.08        0\n",
       "...          ...    ...      ...\n",
       "22993 -15,801.67 -40.53        1\n",
       "22994  12,768.33 114.26        1\n",
       "22995   9,128.33 114.06        1\n",
       "22996 -12,991.67 -40.48        1\n",
       "22997 -12,800.19 -40.25        1\n",
       "\n",
       "[22998 rows x 3 columns]"
      ]
     },
     "execution_count": 45,
     "metadata": {},
     "output_type": "execute_result"
    }
   ],
   "source": [
    "data_2d = pd.concat([data_2d, df1['oci_cat']], axis=1)\n",
    "data_2d.columns = ['x', 'y', 'oci_cat']; data_2d"
   ]
  },
  {
   "cell_type": "code",
   "execution_count": 46,
   "metadata": {},
   "outputs": [
    {
     "data": {
      "image/png": "[encoded data removed]",
      "text/plain": [
       "<Figure size 402.875x360 with 1 Axes>"
      ]
     },
     "metadata": {
      "needs_background": "light"
     },
     "output_type": "display_data"
    }
   ],
   "source": [
    "sns.lmplot('x','y', data_2d, fit_reg=False, hue='oci_cat',\n",
    "                    palette=['#00BFC4', '#F8766D'])\n",
    "plt.title('Class Imbalance in Street Condition Index'); plt.show()"
   ]
  },
  {
   "cell_type": "markdown",
   "metadata": {},
   "source": [
    "The dataset is oversampled into a new dataframe *df2.*"
   ]
  },
  {
   "cell_type": "markdown",
   "metadata": {},
   "source": [
    "The adaptive synthetic sampling approach (ADAYSN) is leveraged “where more synthetic data is generated for minority class examples that are harder to learn compared to those minority examples that are easier to learn” (He et al., 2008). This allows for the minority class to be more closely matched (up-sampled) to the majority class for an approximately even 50/50 weight distribution."
   ]
  },
  {
   "cell_type": "code",
   "execution_count": 47,
   "metadata": {},
   "outputs": [],
   "source": [
    "ada = ADASYN(random_state=777)\n",
    "X_resampled, y_resampled = ada.fit_resample(df1.iloc[:,0:7], \n",
    "                                            df1['oci_cat'])"
   ]
  },
  {
   "cell_type": "code",
   "execution_count": 48,
   "metadata": {},
   "outputs": [],
   "source": [
    "df2 = pd.concat([pd.DataFrame(X_resampled), \n",
    "                 pd.DataFrame(y_resampled)], axis=1)\n",
    "df2.columns = df1.columns"
   ]
  },
  {
   "cell_type": "markdown",
   "metadata": {},
   "source": [
    "The classes are re-balanced in a new dataframe using oversampling:"
   ]
  },
  {
   "cell_type": "code",
   "execution_count": 49,
   "metadata": {},
   "outputs": [
    {
     "name": "stdout",
     "output_type": "stream",
     "text": [
      "Poor Condition Size: 21714\n",
      "Good Condition Size: 21858\n",
      "Total Condition Size: 43572\n",
      "Percent in Poor Condition: 0.5\n",
      "Percent in Good Condition: 0.5\n"
     ]
    }
   ],
   "source": [
    "# rebalanced classes in new df\n",
    "df2['oci_cat'].value_counts()\n",
    "zero_count = df2['oci_cat'].value_counts()[0]\n",
    "one_count = df2['oci_cat'].value_counts()[1]\n",
    "zero_plus_one = zero_count + one_count\n",
    "\n",
    "print('Poor Condition Size:', zero_count)\n",
    "print('Good Condition Size:', one_count)\n",
    "print('Total Condition Size:', zero_plus_one)\n",
    "print('Percent in Poor Condition:', round(zero_count/zero_plus_one,2))\n",
    "print('Percent in Good Condition:', round(one_count/zero_plus_one,2))"
   ]
  },
  {
   "cell_type": "markdown",
   "metadata": {},
   "source": [
    "The dataframe can now be prepared as a flat .csv file if so desired."
   ]
  },
  {
   "cell_type": "markdown",
   "metadata": {},
   "source": [
    "### Train-Test-Validation Split"
   ]
  },
  {
   "cell_type": "code",
   "execution_count": 50,
   "metadata": {},
   "outputs": [
    {
     "name": "stdout",
     "output_type": "stream",
     "text": [
      "Training size: 30500\n",
      "Validation size: 6536\n",
      "Test size: 6536\n",
      "Total size: 43572\n",
      "Training percentage: 0.7\n",
      "Validation percentage: 0.15\n",
      "Test percentage: 0.15\n"
     ]
    }
   ],
   "source": [
    "#Divide train set by .7, test set by .15, and valid set .15\n",
    "size_train = 30500\n",
    "size_valid = 6536\n",
    "size_test = 6536\n",
    "size_total = size_test + size_valid + size_train\n",
    "train, test = train_test_split(df2, train_size = size_train,\\\n",
    "                               random_state = 777)\n",
    "valid, test = train_test_split(test, train_size = size_valid,\\\n",
    "                               random_state = 777)\n",
    "\n",
    "print('Training size:', size_train)\n",
    "print('Validation size:', size_valid)\n",
    "print('Test size:', size_test)\n",
    "print('Total size:', size_train + size_valid + size_test)\n",
    "print('Training percentage:', round(size_train/(size_total),2))\n",
    "print('Validation percentage:', round(size_valid/(size_total),2))\n",
    "print('Test percentage:', round(size_test/(size_total),2))"
   ]
  },
  {
   "cell_type": "code",
   "execution_count": 51,
   "metadata": {},
   "outputs": [],
   "source": [
    "# define (list) the features\n",
    "X_var = list(df2.columns)\n",
    "\n",
    "# define the target\n",
    "target ='oci_cat'\n",
    "X_var.remove(target)\n",
    "X_train = train[X_var]\n",
    "y_train = train[target]\n",
    "X_test = test[X_var] \n",
    "y_test = test[target]\n",
    "X_valid = valid[X_var]\n",
    "y_valid = valid[target]"
   ]
  },
  {
   "cell_type": "code",
   "execution_count": 52,
   "metadata": {},
   "outputs": [],
   "source": [
    "# rearrange columns so that the target column is set up first\n",
    "# for later training\n",
    "df2 = df2[['oci_cat', 'oci', 'area_sq_ft', 'seg_cd', 'day_diff', \n",
    "           'func_cat', 'pvm_cat', 'status_cat']]"
   ]
  },
  {
   "cell_type": "code",
   "execution_count": 53,
   "metadata": {},
   "outputs": [
    {
     "data": {
      "text/html": [
       "<div>\n",
       "<style scoped>\n",
       "    .dataframe tbody tr th:only-of-type {\n",
       "        vertical-align: middle;\n",
       "    }\n",
       "\n",
       "    .dataframe tbody tr th {\n",
       "        vertical-align: top;\n",
       "    }\n",
       "\n",
       "    .dataframe thead th {\n",
       "        text-align: right;\n",
       "    }\n",
       "</style>\n",
       "<table border=\"1\" class=\"dataframe\">\n",
       "  <thead>\n",
       "    <tr style=\"text-align: right;\">\n",
       "      <th></th>\n",
       "      <th>oci_cat</th>\n",
       "      <th>oci</th>\n",
       "      <th>area_sq_ft</th>\n",
       "      <th>seg_cd</th>\n",
       "      <th>day_diff</th>\n",
       "      <th>func_cat</th>\n",
       "      <th>pvm_cat</th>\n",
       "      <th>status_cat</th>\n",
       "    </tr>\n",
       "  </thead>\n",
       "  <tbody>\n",
       "    <tr>\n",
       "      <th>0</th>\n",
       "      <td>0</td>\n",
       "      <td>34.14</td>\n",
       "      <td>28,137.78</td>\n",
       "      <td>2</td>\n",
       "      <td>0</td>\n",
       "      <td>6</td>\n",
       "      <td>1</td>\n",
       "      <td>0</td>\n",
       "    </tr>\n",
       "    <tr>\n",
       "      <th>1</th>\n",
       "      <td>1</td>\n",
       "      <td>97.25</td>\n",
       "      <td>20,199.63</td>\n",
       "      <td>2</td>\n",
       "      <td>0</td>\n",
       "      <td>6</td>\n",
       "      <td>2</td>\n",
       "      <td>1</td>\n",
       "    </tr>\n",
       "    <tr>\n",
       "      <th>2</th>\n",
       "      <td>1</td>\n",
       "      <td>62.67</td>\n",
       "      <td>19,716.00</td>\n",
       "      <td>2</td>\n",
       "      <td>0</td>\n",
       "      <td>6</td>\n",
       "      <td>2</td>\n",
       "      <td>1</td>\n",
       "    </tr>\n",
       "    <tr>\n",
       "      <th>3</th>\n",
       "      <td>1</td>\n",
       "      <td>68.86</td>\n",
       "      <td>20,373.18</td>\n",
       "      <td>9</td>\n",
       "      <td>0</td>\n",
       "      <td>6</td>\n",
       "      <td>2</td>\n",
       "      <td>1</td>\n",
       "    </tr>\n",
       "    <tr>\n",
       "      <th>4</th>\n",
       "      <td>0</td>\n",
       "      <td>28.67</td>\n",
       "      <td>19,802.75</td>\n",
       "      <td>9</td>\n",
       "      <td>0</td>\n",
       "      <td>6</td>\n",
       "      <td>2</td>\n",
       "      <td>0</td>\n",
       "    </tr>\n",
       "  </tbody>\n",
       "</table>\n",
       "</div>"
      ],
      "text/plain": [
       "   oci_cat   oci  area_sq_ft  seg_cd  day_diff  func_cat  pvm_cat  status_cat\n",
       "0        0 34.14   28,137.78       2         0         6        1           0\n",
       "1        1 97.25   20,199.63       2         0         6        2           1\n",
       "2        1 62.67   19,716.00       2         0         6        2           1\n",
       "3        1 68.86   20,373.18       9         0         6        2           1\n",
       "4        0 28.67   19,802.75       9         0         6        2           0"
      ]
     },
     "execution_count": 53,
     "metadata": {},
     "output_type": "execute_result"
    }
   ],
   "source": [
    "# reinspect the dataframe\n",
    "df2.head()"
   ]
  },
  {
   "cell_type": "markdown",
   "metadata": {},
   "source": [
    "### Transfer The Final Dataframe (*df2*) to S3 Bucket"
   ]
  },
  {
   "cell_type": "code",
   "execution_count": 54,
   "metadata": {},
   "outputs": [],
   "source": [
    "s3_client = boto3.client(\"s3\")\n",
    "BUCKET='waterteam1'\n",
    "KEY='raw_files/df2/df2.csv'\n",
    "response = s3_client.get_object(Bucket=BUCKET, Key=KEY)\n",
    "\n",
    "with io.StringIO() as csv_buffer:\n",
    "    df2.to_csv(csv_buffer, index=False, header=True)\n",
    "\n",
    "    response = s3_client.put_object(\n",
    "        Bucket=BUCKET, Key=KEY, Body=csv_buffer.getvalue()\n",
    "    )"
   ]
  },
  {
   "cell_type": "markdown",
   "metadata": {},
   "source": [
    "## Modeling and Training"
   ]
  },
  {
   "cell_type": "markdown",
   "metadata": {},
   "source": [
    "### Logistic Regression"
   ]
  },
  {
   "cell_type": "markdown",
   "metadata": {},
   "source": [
    "Herein, the classical Anaconda-based scikit-learn approach is leveraged to train the logistic regression model on the validation set."
   ]
  },
  {
   "cell_type": "code",
   "execution_count": 55,
   "metadata": {},
   "outputs": [
    {
     "name": "stdout",
     "output_type": "stream",
     "text": [
      "Untuned Logistic Regression Model\n",
      "Accuracy Score\n",
      "0.9640452876376989\n",
      "Classification Report \n",
      "               precision    recall  f1-score   support\n",
      "\n",
      "           0       0.96      0.97      0.96      3296\n",
      "           1       0.97      0.95      0.96      3240\n",
      "\n",
      "    accuracy                           0.96      6536\n",
      "   macro avg       0.96      0.96      0.96      6536\n",
      "weighted avg       0.96      0.96      0.96      6536\n",
      "\n"
     ]
    }
   ],
   "source": [
    "# Un-Tuned Logistic Regression Model\n",
    "logit_reg = LogisticRegression(random_state=777) \n",
    "logit_reg.fit(X_train, y_train)\n",
    "\n",
    "# Predict on validation set\n",
    "logit_reg_pred1 = logit_reg.predict(X_valid)\n",
    "\n",
    "# accuracy and classification report (Untuned Model)\n",
    "print('Untuned Logistic Regression Model')\n",
    "print('Accuracy Score')\n",
    "print(accuracy_score(y_valid, logit_reg_pred1))\n",
    "print('Classification Report \\n', \n",
    "       classification_report(y_valid, logit_reg_pred1))"
   ]
  },
  {
   "cell_type": "markdown",
   "metadata": {},
   "source": [
    "Next, the logistic regression model is tuned using `RandomizedSearchCV()` and cross validated using repeated stratified kfold with five splits and two repeats. A set of hyperparamaters are subsequently defined to produce an overall best accuracy score in conjunction with a set of optimal hyperparameters."
   ]
  },
  {
   "cell_type": "code",
   "execution_count": 56,
   "metadata": {},
   "outputs": [
    {
     "name": "stdout",
     "output_type": "stream",
     "text": [
      "Best Score: 0.9525573770491803\n",
      "Best Hyperparameters: {'C': 0.0007621148169586348, 'penalty': 'l2', 'solver': 'liblinear'}\n"
     ]
    }
   ],
   "source": [
    "model1 = LogisticRegression(random_state=777)\n",
    "cv = RepeatedStratifiedKFold(n_splits=5, n_repeats=2, \n",
    "                             random_state=777)\n",
    "space = dict()\n",
    "\n",
    "# define search space\n",
    "space['solver'] = ['newton-cg', 'lbfgs', 'liblinear']\n",
    "space['penalty'] = ['none', 'l1', 'l2', 'elasticnet']\n",
    "space['C'] = loguniform(1e-5, 100)\n",
    "\n",
    "# define search\n",
    "search = RandomizedSearchCV(model1, space, \n",
    "                            scoring='accuracy', \n",
    "n_jobs=-1, cv=cv, random_state=777)\n",
    "\n",
    "# execute search\n",
    "result = search.fit(X_train, y_train)\n",
    "\n",
    "# summarize result\n",
    "print('Best Score: %s' % result.best_score_)\n",
    "print('Best Hyperparameters: %s' % result.best_params_)"
   ]
  },
  {
   "cell_type": "markdown",
   "metadata": {},
   "source": [
    "## Training, Testing, and Deploying a Model with Amazon SageMaker's Built-in XGBoost Model"
   ]
  },
  {
   "cell_type": "code",
   "execution_count": 57,
   "metadata": {},
   "outputs": [
    {
     "name": "stdout",
     "output_type": "stream",
     "text": [
      "Success - the MySageMakerInstance is in the us-east-1 region. You will use the 811284229777.dkr.ecr.us-east-1.amazonaws.com/xgboost:latest container for your SageMaker endpoint.\n"
     ]
    }
   ],
   "source": [
    "# Define IAM role\n",
    "role = get_execution_role()\n",
    "\n",
    "# set the region of the instance\n",
    "my_region = boto3.session.Session().region_name \n",
    "\n",
    "# this line automatically looks for the XGBoost image URI and \n",
    "# builds an XGBoost container.\n",
    "xgboost_container = sagemaker.image_uris.retrieve(\"xgboost\", \n",
    "                                                  my_region, \n",
    "                                                  \"latest\")\n",
    "\n",
    "print(\"Success - the MySageMakerInstance is in the \" + my_region + \\\n",
    "      \" region. You will use the \" + xgboost_container + \\\n",
    "      \" container for your SageMaker endpoint.\")"
   ]
  },
  {
   "cell_type": "code",
   "execution_count": 58,
   "metadata": {},
   "outputs": [
    {
     "name": "stdout",
     "output_type": "stream",
     "text": [
      "(30500, 8) (13072, 8)\n"
     ]
    }
   ],
   "source": [
    "train, test = np.split(df2.sample(frac=1, random_state=777), \n",
    "                                 [int(0.7 * len(df2))])\n",
    "print(train.shape, test.shape)"
   ]
  },
  {
   "cell_type": "markdown",
   "metadata": {},
   "source": [
    "### Transfer The Training Data to S3 Bucket"
   ]
  },
  {
   "cell_type": "code",
   "execution_count": 59,
   "metadata": {},
   "outputs": [],
   "source": [
    "s3_client = boto3.client(\"s3\")\n",
    "BUCKET='waterteam1'\n",
    "KEY='raw_files/train/train.csv'\n",
    "response = s3_client.get_object(Bucket=BUCKET, Key=KEY)\n",
    "\n",
    "with io.StringIO() as csv_buffer:\n",
    "    train.to_csv(csv_buffer, index=False, header=False)\n",
    "\n",
    "    response = s3_client.put_object(\n",
    "        Bucket=BUCKET, Key=KEY, Body=csv_buffer.getvalue()\n",
    "    )"
   ]
  },
  {
   "cell_type": "code",
   "execution_count": 60,
   "metadata": {},
   "outputs": [],
   "source": [
    "# input training parameters\n",
    "s3_input_train = sagemaker.inputs.TrainingInput(s3_data=\\\n",
    "        's3://{}/raw_files/train'.format(BUCKET), content_type='csv')"
   ]
  },
  {
   "cell_type": "markdown",
   "metadata": {},
   "source": [
    "### Setting up the SageMaker Session and Supplying Instance for XGBoost Model"
   ]
  },
  {
   "cell_type": "code",
   "execution_count": 61,
   "metadata": {},
   "outputs": [],
   "source": [
    "sess = sagemaker.Session()\n",
    "xgb = sagemaker.estimator.Estimator(xgboost_container,role, \n",
    "                                    instance_count=1, \n",
    "                                    instance_type='ml.m5.large',\n",
    "                                    output_path='s3://{}/output'.format(BUCKET),\n",
    "                                    sagemaker_session=sess)\n",
    "# parse in the hyperparameters\n",
    "xgb.set_hyperparameters(max_depth=5,eta=0.2,gamma=4,min_child_weight=6,\n",
    "                        subsample=0.8,silent=0,\n",
    "                        objective='binary:logistic',num_round=100)"
   ]
  },
  {
   "cell_type": "markdown",
   "metadata": {},
   "source": [
    "### Train The Model"
   ]
  },
  {
   "cell_type": "code",
   "execution_count": 62,
   "metadata": {},
   "outputs": [
    {
     "name": "stdout",
     "output_type": "stream",
     "text": [
      "2022-04-05 04:08:45 Starting - Starting the training job...\n",
      "2022-04-05 04:09:02 Starting - Preparing the instances for trainingProfilerReport-1649131725: InProgress\n",
      ".........\n",
      "2022-04-05 04:10:43 Downloading - Downloading input data...\n",
      "2022-04-05 04:11:14 Training - Downloading the training image..\u001b[34mArguments: train\u001b[0m\n",
      "\u001b[34m[2022-04-05:04:11:27:INFO] Running standalone xgboost training.\u001b[0m\n",
      "\u001b[34m[2022-04-05:04:11:27:INFO] Path /opt/ml/input/data/validation does not exist!\u001b[0m\n",
      "\u001b[34m[2022-04-05:04:11:27:INFO] File size need to be processed in the node: 1.09mb. Available memory size in the node: 228.3mb\u001b[0m\n",
      "\u001b[34m[2022-04-05:04:11:27:INFO] Determined delimiter of CSV input is ','\u001b[0m\n",
      "\u001b[34m[04:11:27] S3DistributionType set as FullyReplicated\u001b[0m\n",
      "\u001b[34m[04:11:27] 30500x7 matrix with 213500 entries loaded from /opt/ml/input/data/train?format=csv&label_column=0&delimiter=,\u001b[0m\n",
      "\u001b[34m[04:11:27] src/tree/updater_prune.cc:74: tree pruning end, 1 roots, 2 extra nodes, 0 pruned nodes, max_depth=1\u001b[0m\n",
      "\u001b[34m[0]#011train-error:3.3e-05\u001b[0m\n",
      "\u001b[34m[04:11:27] src/tree/updater_prune.cc:74: tree pruning end, 1 roots, 2 extra nodes, 0 pruned nodes, max_depth=1\u001b[0m\n",
      "\u001b[34m[1]#011train-error:3.3e-05\u001b[0m\n",
      "\u001b[34m[04:11:27] src/tree/updater_prune.cc:74: tree pruning end, 1 roots, 2 extra nodes, 0 pruned nodes, max_depth=1\u001b[0m\n",
      "\u001b[34m[2]#011train-error:0\u001b[0m\n",
      "\u001b[34m[04:11:27] src/tree/updater_prune.cc:74: tree pruning end, 1 roots, 2 extra nodes, 0 pruned nodes, max_depth=1\u001b[0m\n",
      "\u001b[34m[3]#011train-error:0\u001b[0m\n",
      "\u001b[34m[04:11:27] src/tree/updater_prune.cc:74: tree pruning end, 1 roots, 2 extra nodes, 0 pruned nodes, max_depth=1\u001b[0m\n",
      "\u001b[34m[4]#011train-error:0\u001b[0m\n",
      "\u001b[34m[04:11:27] src/tree/updater_prune.cc:74: tree pruning end, 1 roots, 2 extra nodes, 0 pruned nodes, max_depth=1\u001b[0m\n",
      "\u001b[34m[5]#011train-error:0\u001b[0m\n",
      "\u001b[34m[04:11:27] src/tree/updater_prune.cc:74: tree pruning end, 1 roots, 2 extra nodes, 0 pruned nodes, max_depth=1\u001b[0m\n",
      "\u001b[34m[6]#011train-error:0\u001b[0m\n",
      "\u001b[34m[04:11:27] src/tree/updater_prune.cc:74: tree pruning end, 1 roots, 2 extra nodes, 0 pruned nodes, max_depth=1\u001b[0m\n",
      "\u001b[34m[7]#011train-error:0\u001b[0m\n",
      "\u001b[34m[04:11:27] src/tree/updater_prune.cc:74: tree pruning end, 1 roots, 2 extra nodes, 0 pruned nodes, max_depth=1\u001b[0m\n",
      "\u001b[34m[8]#011train-error:0\u001b[0m\n",
      "\u001b[34m[04:11:28] src/tree/updater_prune.cc:74: tree pruning end, 1 roots, 2 extra nodes, 0 pruned nodes, max_depth=1\u001b[0m\n",
      "\u001b[34m[9]#011train-error:0\u001b[0m\n",
      "\u001b[34m[04:11:28] src/tree/updater_prune.cc:74: tree pruning end, 1 roots, 2 extra nodes, 0 pruned nodes, max_depth=1\u001b[0m\n",
      "\u001b[34m[10]#011train-error:0\u001b[0m\n",
      "\u001b[34m[04:11:28] src/tree/updater_prune.cc:74: tree pruning end, 1 roots, 2 extra nodes, 0 pruned nodes, max_depth=1\u001b[0m\n",
      "\u001b[34m[11]#011train-error:0\u001b[0m\n",
      "\u001b[34m[04:11:28] src/tree/updater_prune.cc:74: tree pruning end, 1 roots, 2 extra nodes, 0 pruned nodes, max_depth=1\u001b[0m\n",
      "\u001b[34m[12]#011train-error:0\u001b[0m\n",
      "\u001b[34m[04:11:28] src/tree/updater_prune.cc:74: tree pruning end, 1 roots, 2 extra nodes, 0 pruned nodes, max_depth=1\u001b[0m\n",
      "\u001b[34m[13]#011train-error:0\u001b[0m\n",
      "\u001b[34m[04:11:28] src/tree/updater_prune.cc:74: tree pruning end, 1 roots, 2 extra nodes, 0 pruned nodes, max_depth=1\u001b[0m\n",
      "\u001b[34m[14]#011train-error:0\u001b[0m\n",
      "\u001b[34m[04:11:28] src/tree/updater_prune.cc:74: tree pruning end, 1 roots, 2 extra nodes, 0 pruned nodes, max_depth=1\u001b[0m\n",
      "\u001b[34m[15]#011train-error:0\u001b[0m\n",
      "\u001b[34m[04:11:28] src/tree/updater_prune.cc:74: tree pruning end, 1 roots, 2 extra nodes, 0 pruned nodes, max_depth=1\u001b[0m\n",
      "\u001b[34m[16]#011train-error:0\u001b[0m\n",
      "\u001b[34m[04:11:28] src/tree/updater_prune.cc:74: tree pruning end, 1 roots, 2 extra nodes, 0 pruned nodes, max_depth=1\u001b[0m\n",
      "\u001b[34m[17]#011train-error:0\u001b[0m\n",
      "\u001b[34m[04:11:28] src/tree/updater_prune.cc:74: tree pruning end, 1 roots, 2 extra nodes, 0 pruned nodes, max_depth=1\u001b[0m\n",
      "\u001b[34m[18]#011train-error:0\u001b[0m\n",
      "\u001b[34m[04:11:28] src/tree/updater_prune.cc:74: tree pruning end, 1 roots, 2 extra nodes, 0 pruned nodes, max_depth=1\u001b[0m\n",
      "\u001b[34m[19]#011train-error:0\u001b[0m\n",
      "\u001b[34m[04:11:28] src/tree/updater_prune.cc:74: tree pruning end, 1 roots, 2 extra nodes, 0 pruned nodes, max_depth=1\u001b[0m\n",
      "\u001b[34m[20]#011train-error:0\u001b[0m\n",
      "\u001b[34m[04:11:28] src/tree/updater_prune.cc:74: tree pruning end, 1 roots, 2 extra nodes, 0 pruned nodes, max_depth=1\u001b[0m\n",
      "\u001b[34m[21]#011train-error:0\u001b[0m\n",
      "\u001b[34m[04:11:28] src/tree/updater_prune.cc:74: tree pruning end, 1 roots, 2 extra nodes, 0 pruned nodes, max_depth=1\u001b[0m\n",
      "\u001b[34m[22]#011train-error:0\u001b[0m\n",
      "\u001b[34m[04:11:28] src/tree/updater_prune.cc:74: tree pruning end, 1 roots, 2 extra nodes, 0 pruned nodes, max_depth=1\u001b[0m\n",
      "\u001b[34m[23]#011train-error:0\u001b[0m\n",
      "\u001b[34m[04:11:28] src/tree/updater_prune.cc:74: tree pruning end, 1 roots, 2 extra nodes, 0 pruned nodes, max_depth=1\u001b[0m\n",
      "\u001b[34m[24]#011train-error:0\u001b[0m\n",
      "\u001b[34m[04:11:28] src/tree/updater_prune.cc:74: tree pruning end, 1 roots, 2 extra nodes, 0 pruned nodes, max_depth=1\u001b[0m\n",
      "\u001b[34m[25]#011train-error:0\u001b[0m\n",
      "\u001b[34m[04:11:28] src/tree/updater_prune.cc:74: tree pruning end, 1 roots, 2 extra nodes, 0 pruned nodes, max_depth=1\u001b[0m\n",
      "\u001b[34m[26]#011train-error:0\u001b[0m\n",
      "\u001b[34m[04:11:28] src/tree/updater_prune.cc:74: tree pruning end, 1 roots, 2 extra nodes, 0 pruned nodes, max_depth=1\u001b[0m\n",
      "\u001b[34m[27]#011train-error:0\u001b[0m\n",
      "\u001b[34m[04:11:28] src/tree/updater_prune.cc:74: tree pruning end, 1 roots, 2 extra nodes, 0 pruned nodes, max_depth=1\u001b[0m\n",
      "\u001b[34m[28]#011train-error:0\u001b[0m\n",
      "\u001b[34m[04:11:28] src/tree/updater_prune.cc:74: tree pruning end, 1 roots, 2 extra nodes, 0 pruned nodes, max_depth=1\u001b[0m\n",
      "\u001b[34m[29]#011train-error:0\u001b[0m\n",
      "\u001b[34m[04:11:28] src/tree/updater_prune.cc:74: tree pruning end, 1 roots, 2 extra nodes, 0 pruned nodes, max_depth=1\u001b[0m\n",
      "\u001b[34m[30]#011train-error:0\u001b[0m\n",
      "\u001b[34m[04:11:28] src/tree/updater_prune.cc:74: tree pruning end, 1 roots, 2 extra nodes, 0 pruned nodes, max_depth=1\u001b[0m\n",
      "\u001b[34m[31]#011train-error:0\u001b[0m\n",
      "\u001b[34m[04:11:28] src/tree/updater_prune.cc:74: tree pruning end, 1 roots, 2 extra nodes, 0 pruned nodes, max_depth=1\u001b[0m\n",
      "\u001b[34m[32]#011train-error:0\u001b[0m\n",
      "\u001b[34m[04:11:28] src/tree/updater_prune.cc:74: tree pruning end, 1 roots, 2 extra nodes, 0 pruned nodes, max_depth=1\u001b[0m\n",
      "\u001b[34m[33]#011train-error:0\u001b[0m\n",
      "\u001b[34m[04:11:28] src/tree/updater_prune.cc:74: tree pruning end, 1 roots, 2 extra nodes, 0 pruned nodes, max_depth=1\u001b[0m\n",
      "\u001b[34m[34]#011train-error:0\u001b[0m\n",
      "\u001b[34m[04:11:28] src/tree/updater_prune.cc:74: tree pruning end, 1 roots, 2 extra nodes, 0 pruned nodes, max_depth=1\u001b[0m\n",
      "\u001b[34m[35]#011train-error:0\u001b[0m\n",
      "\u001b[34m[04:11:28] src/tree/updater_prune.cc:74: tree pruning end, 1 roots, 0 extra nodes, 0 pruned nodes, max_depth=0\u001b[0m\n",
      "\u001b[34m[36]#011train-error:0\u001b[0m\n",
      "\u001b[34m[04:11:28] src/tree/updater_prune.cc:74: tree pruning end, 1 roots, 0 extra nodes, 0 pruned nodes, max_depth=0\u001b[0m\n",
      "\u001b[34m[37]#011train-error:0\u001b[0m\n",
      "\u001b[34m[04:11:28] src/tree/updater_prune.cc:74: tree pruning end, 1 roots, 0 extra nodes, 0 pruned nodes, max_depth=0\u001b[0m\n",
      "\u001b[34m[38]#011train-error:0\u001b[0m\n",
      "\u001b[34m[04:11:28] src/tree/updater_prune.cc:74: tree pruning end, 1 roots, 0 extra nodes, 0 pruned nodes, max_depth=0\u001b[0m\n",
      "\u001b[34m[39]#011train-error:0\u001b[0m\n",
      "\u001b[34m[04:11:28] src/tree/updater_prune.cc:74: tree pruning end, 1 roots, 0 extra nodes, 0 pruned nodes, max_depth=0\u001b[0m\n",
      "\u001b[34m[40]#011train-error:0\u001b[0m\n",
      "\u001b[34m[04:11:28] src/tree/updater_prune.cc:74: tree pruning end, 1 roots, 0 extra nodes, 0 pruned nodes, max_depth=0\u001b[0m\n",
      "\u001b[34m[41]#011train-error:0\u001b[0m\n",
      "\u001b[34m[04:11:28] src/tree/updater_prune.cc:74: tree pruning end, 1 roots, 0 extra nodes, 0 pruned nodes, max_depth=0\u001b[0m\n",
      "\u001b[34m[42]#011train-error:0\u001b[0m\n",
      "\u001b[34m[04:11:28] src/tree/updater_prune.cc:74: tree pruning end, 1 roots, 0 extra nodes, 0 pruned nodes, max_depth=0\u001b[0m\n",
      "\u001b[34m[43]#011train-error:0\u001b[0m\n",
      "\u001b[34m[04:11:28] src/tree/updater_prune.cc:74: tree pruning end, 1 roots, 0 extra nodes, 0 pruned nodes, max_depth=0\u001b[0m\n",
      "\u001b[34m[44]#011train-error:0\u001b[0m\n",
      "\u001b[34m[04:11:28] src/tree/updater_prune.cc:74: tree pruning end, 1 roots, 0 extra nodes, 0 pruned nodes, max_depth=0\u001b[0m\n",
      "\u001b[34m[45]#011train-error:0\u001b[0m\n",
      "\u001b[34m[04:11:28] src/tree/updater_prune.cc:74: tree pruning end, 1 roots, 0 extra nodes, 0 pruned nodes, max_depth=0\u001b[0m\n",
      "\u001b[34m[46]#011train-error:0\u001b[0m\n",
      "\u001b[34m[04:11:28] src/tree/updater_prune.cc:74: tree pruning end, 1 roots, 0 extra nodes, 0 pruned nodes, max_depth=0\u001b[0m\n",
      "\u001b[34m[47]#011train-error:0\u001b[0m\n",
      "\u001b[34m[04:11:28] src/tree/updater_prune.cc:74: tree pruning end, 1 roots, 0 extra nodes, 0 pruned nodes, max_depth=0\u001b[0m\n",
      "\u001b[34m[48]#011train-error:0\u001b[0m\n",
      "\u001b[34m[04:11:28] src/tree/updater_prune.cc:74: tree pruning end, 1 roots, 0 extra nodes, 0 pruned nodes, max_depth=0\u001b[0m\n",
      "\u001b[34m[49]#011train-error:0\u001b[0m\n",
      "\u001b[34m[04:11:28] src/tree/updater_prune.cc:74: tree pruning end, 1 roots, 0 extra nodes, 0 pruned nodes, max_depth=0\u001b[0m\n",
      "\u001b[34m[50]#011train-error:0\u001b[0m\n",
      "\u001b[34m[04:11:28] src/tree/updater_prune.cc:74: tree pruning end, 1 roots, 0 extra nodes, 0 pruned nodes, max_depth=0\u001b[0m\n",
      "\u001b[34m[51]#011train-error:0\u001b[0m\n",
      "\u001b[34m[04:11:28] src/tree/updater_prune.cc:74: tree pruning end, 1 roots, 0 extra nodes, 0 pruned nodes, max_depth=0\u001b[0m\n",
      "\u001b[34m[52]#011train-error:0\u001b[0m\n",
      "\u001b[34m[04:11:28] src/tree/updater_prune.cc:74: tree pruning end, 1 roots, 0 extra nodes, 0 pruned nodes, max_depth=0\u001b[0m\n",
      "\u001b[34m[53]#011train-error:0\u001b[0m\n",
      "\u001b[34m[04:11:28] src/tree/updater_prune.cc:74: tree pruning end, 1 roots, 0 extra nodes, 0 pruned nodes, max_depth=0\u001b[0m\n",
      "\u001b[34m[54]#011train-error:0\u001b[0m\n",
      "\u001b[34m[04:11:28] src/tree/updater_prune.cc:74: tree pruning end, 1 roots, 0 extra nodes, 0 pruned nodes, max_depth=0\u001b[0m\n",
      "\u001b[34m[55]#011train-error:0\u001b[0m\n",
      "\u001b[34m[04:11:28] src/tree/updater_prune.cc:74: tree pruning end, 1 roots, 0 extra nodes, 0 pruned nodes, max_depth=0\u001b[0m\n",
      "\u001b[34m[56]#011train-error:0\u001b[0m\n",
      "\u001b[34m[04:11:28] src/tree/updater_prune.cc:74: tree pruning end, 1 roots, 0 extra nodes, 0 pruned nodes, max_depth=0\u001b[0m\n",
      "\u001b[34m[57]#011train-error:0\u001b[0m\n",
      "\u001b[34m[04:11:28] src/tree/updater_prune.cc:74: tree pruning end, 1 roots, 0 extra nodes, 0 pruned nodes, max_depth=0\u001b[0m\n",
      "\u001b[34m[58]#011train-error:0\u001b[0m\n",
      "\u001b[34m[04:11:28] src/tree/updater_prune.cc:74: tree pruning end, 1 roots, 0 extra nodes, 0 pruned nodes, max_depth=0\u001b[0m\n",
      "\u001b[34m[59]#011train-error:0\u001b[0m\n",
      "\u001b[34m[04:11:28] src/tree/updater_prune.cc:74: tree pruning end, 1 roots, 0 extra nodes, 0 pruned nodes, max_depth=0\u001b[0m\n",
      "\u001b[34m[60]#011train-error:0\u001b[0m\n",
      "\u001b[34m[04:11:28] src/tree/updater_prune.cc:74: tree pruning end, 1 roots, 0 extra nodes, 0 pruned nodes, max_depth=0\u001b[0m\n",
      "\u001b[34m[61]#011train-error:0\u001b[0m\n",
      "\u001b[34m[04:11:28] src/tree/updater_prune.cc:74: tree pruning end, 1 roots, 0 extra nodes, 0 pruned nodes, max_depth=0\u001b[0m\n",
      "\u001b[34m[62]#011train-error:0\u001b[0m\n",
      "\u001b[34m[04:11:28] src/tree/updater_prune.cc:74: tree pruning end, 1 roots, 0 extra nodes, 0 pruned nodes, max_depth=0\u001b[0m\n",
      "\u001b[34m[63]#011train-error:0\u001b[0m\n",
      "\u001b[34m[04:11:28] src/tree/updater_prune.cc:74: tree pruning end, 1 roots, 0 extra nodes, 0 pruned nodes, max_depth=0\u001b[0m\n",
      "\u001b[34m[64]#011train-error:0\u001b[0m\n",
      "\u001b[34m[04:11:28] src/tree/updater_prune.cc:74: tree pruning end, 1 roots, 0 extra nodes, 0 pruned nodes, max_depth=0\u001b[0m\n",
      "\u001b[34m[65]#011train-error:0\u001b[0m\n",
      "\u001b[34m[04:11:28] src/tree/updater_prune.cc:74: tree pruning end, 1 roots, 0 extra nodes, 0 pruned nodes, max_depth=0\u001b[0m\n",
      "\u001b[34m[66]#011train-error:0\u001b[0m\n",
      "\u001b[34m[04:11:28] src/tree/updater_prune.cc:74: tree pruning end, 1 roots, 0 extra nodes, 0 pruned nodes, max_depth=0\u001b[0m\n",
      "\u001b[34m[67]#011train-error:0\u001b[0m\n",
      "\u001b[34m[04:11:28] src/tree/updater_prune.cc:74: tree pruning end, 1 roots, 0 extra nodes, 0 pruned nodes, max_depth=0\u001b[0m\n",
      "\u001b[34m[68]#011train-error:0\u001b[0m\n",
      "\u001b[34m[04:11:28] src/tree/updater_prune.cc:74: tree pruning end, 1 roots, 0 extra nodes, 0 pruned nodes, max_depth=0\u001b[0m\n",
      "\u001b[34m[69]#011train-error:0\u001b[0m\n",
      "\u001b[34m[04:11:28] src/tree/updater_prune.cc:74: tree pruning end, 1 roots, 0 extra nodes, 0 pruned nodes, max_depth=0\u001b[0m\n",
      "\u001b[34m[70]#011train-error:0\u001b[0m\n",
      "\u001b[34m[04:11:28] src/tree/updater_prune.cc:74: tree pruning end, 1 roots, 0 extra nodes, 0 pruned nodes, max_depth=0\u001b[0m\n",
      "\u001b[34m[71]#011train-error:0\u001b[0m\n",
      "\u001b[34m[04:11:28] src/tree/updater_prune.cc:74: tree pruning end, 1 roots, 0 extra nodes, 0 pruned nodes, max_depth=0\u001b[0m\n",
      "\u001b[34m[72]#011train-error:0\u001b[0m\n",
      "\u001b[34m[04:11:28] src/tree/updater_prune.cc:74: tree pruning end, 1 roots, 0 extra nodes, 0 pruned nodes, max_depth=0\u001b[0m\n",
      "\u001b[34m[73]#011train-error:0\u001b[0m\n",
      "\u001b[34m[04:11:28] src/tree/updater_prune.cc:74: tree pruning end, 1 roots, 0 extra nodes, 0 pruned nodes, max_depth=0\u001b[0m\n",
      "\u001b[34m[74]#011train-error:0\u001b[0m\n",
      "\u001b[34m[04:11:28] src/tree/updater_prune.cc:74: tree pruning end, 1 roots, 0 extra nodes, 0 pruned nodes, max_depth=0\u001b[0m\n",
      "\u001b[34m[75]#011train-error:0\u001b[0m\n",
      "\u001b[34m[04:11:28] src/tree/updater_prune.cc:74: tree pruning end, 1 roots, 0 extra nodes, 0 pruned nodes, max_depth=0\u001b[0m\n",
      "\u001b[34m[76]#011train-error:0\u001b[0m\n",
      "\u001b[34m[04:11:28] src/tree/updater_prune.cc:74: tree pruning end, 1 roots, 0 extra nodes, 0 pruned nodes, max_depth=0\u001b[0m\n",
      "\u001b[34m[77]#011train-error:0\u001b[0m\n",
      "\u001b[34m[04:11:28] src/tree/updater_prune.cc:74: tree pruning end, 1 roots, 0 extra nodes, 0 pruned nodes, max_depth=0\u001b[0m\n",
      "\u001b[34m[78]#011train-error:0\u001b[0m\n",
      "\u001b[34m[04:11:28] src/tree/updater_prune.cc:74: tree pruning end, 1 roots, 0 extra nodes, 0 pruned nodes, max_depth=0\u001b[0m\n",
      "\u001b[34m[79]#011train-error:0\u001b[0m\n",
      "\u001b[34m[04:11:28] src/tree/updater_prune.cc:74: tree pruning end, 1 roots, 0 extra nodes, 0 pruned nodes, max_depth=0\u001b[0m\n",
      "\u001b[34m[80]#011train-error:0\u001b[0m\n",
      "\u001b[34m[04:11:28] src/tree/updater_prune.cc:74: tree pruning end, 1 roots, 0 extra nodes, 0 pruned nodes, max_depth=0\u001b[0m\n",
      "\u001b[34m[81]#011train-error:0\u001b[0m\n",
      "\u001b[34m[04:11:28] src/tree/updater_prune.cc:74: tree pruning end, 1 roots, 0 extra nodes, 0 pruned nodes, max_depth=0\u001b[0m\n",
      "\u001b[34m[82]#011train-error:0\u001b[0m\n",
      "\u001b[34m[04:11:28] src/tree/updater_prune.cc:74: tree pruning end, 1 roots, 0 extra nodes, 0 pruned nodes, max_depth=0\u001b[0m\n",
      "\u001b[34m[83]#011train-error:0\u001b[0m\n",
      "\u001b[34m[04:11:28] src/tree/updater_prune.cc:74: tree pruning end, 1 roots, 0 extra nodes, 0 pruned nodes, max_depth=0\u001b[0m\n",
      "\u001b[34m[84]#011train-error:0\u001b[0m\n",
      "\u001b[34m[04:11:28] src/tree/updater_prune.cc:74: tree pruning end, 1 roots, 0 extra nodes, 0 pruned nodes, max_depth=0\u001b[0m\n",
      "\u001b[34m[85]#011train-error:0\u001b[0m\n",
      "\u001b[34m[04:11:28] src/tree/updater_prune.cc:74: tree pruning end, 1 roots, 0 extra nodes, 0 pruned nodes, max_depth=0\u001b[0m\n",
      "\u001b[34m[86]#011train-error:0\u001b[0m\n",
      "\u001b[34m[04:11:28] src/tree/updater_prune.cc:74: tree pruning end, 1 roots, 0 extra nodes, 0 pruned nodes, max_depth=0\u001b[0m\n",
      "\u001b[34m[87]#011train-error:0\u001b[0m\n",
      "\u001b[34m[04:11:28] src/tree/updater_prune.cc:74: tree pruning end, 1 roots, 0 extra nodes, 0 pruned nodes, max_depth=0\u001b[0m\n",
      "\u001b[34m[88]#011train-error:0\u001b[0m\n",
      "\u001b[34m[04:11:28] src/tree/updater_prune.cc:74: tree pruning end, 1 roots, 0 extra nodes, 0 pruned nodes, max_depth=0\u001b[0m\n",
      "\u001b[34m[89]#011train-error:0\u001b[0m\n",
      "\u001b[34m[04:11:28] src/tree/updater_prune.cc:74: tree pruning end, 1 roots, 0 extra nodes, 0 pruned nodes, max_depth=0\u001b[0m\n",
      "\u001b[34m[90]#011train-error:0\u001b[0m\n",
      "\u001b[34m[04:11:28] src/tree/updater_prune.cc:74: tree pruning end, 1 roots, 0 extra nodes, 0 pruned nodes, max_depth=0\u001b[0m\n",
      "\u001b[34m[91]#011train-error:0\u001b[0m\n",
      "\u001b[34m[04:11:28] src/tree/updater_prune.cc:74: tree pruning end, 1 roots, 0 extra nodes, 0 pruned nodes, max_depth=0\u001b[0m\n",
      "\u001b[34m[92]#011train-error:0\u001b[0m\n",
      "\u001b[34m[04:11:28] src/tree/updater_prune.cc:74: tree pruning end, 1 roots, 0 extra nodes, 0 pruned nodes, max_depth=0\u001b[0m\n",
      "\u001b[34m[93]#011train-error:0\u001b[0m\n",
      "\u001b[34m[04:11:28] src/tree/updater_prune.cc:74: tree pruning end, 1 roots, 0 extra nodes, 0 pruned nodes, max_depth=0\u001b[0m\n",
      "\u001b[34m[94]#011train-error:0\u001b[0m\n",
      "\u001b[34m[04:11:28] src/tree/updater_prune.cc:74: tree pruning end, 1 roots, 0 extra nodes, 0 pruned nodes, max_depth=0\u001b[0m\n",
      "\u001b[34m[95]#011train-error:0\u001b[0m\n",
      "\u001b[34m[04:11:28] src/tree/updater_prune.cc:74: tree pruning end, 1 roots, 0 extra nodes, 0 pruned nodes, max_depth=0\u001b[0m\n",
      "\u001b[34m[96]#011train-error:0\u001b[0m\n",
      "\u001b[34m[04:11:28] src/tree/updater_prune.cc:74: tree pruning end, 1 roots, 0 extra nodes, 0 pruned nodes, max_depth=0\u001b[0m\n",
      "\u001b[34m[97]#011train-error:0\u001b[0m\n",
      "\u001b[34m[04:11:29] src/tree/updater_prune.cc:74: tree pruning end, 1 roots, 0 extra nodes, 0 pruned nodes, max_depth=0\u001b[0m\n",
      "\u001b[34m[98]#011train-error:0\u001b[0m\n",
      "\u001b[34m[04:11:29] src/tree/updater_prune.cc:74: tree pruning end, 1 roots, 0 extra nodes, 0 pruned nodes, max_depth=0\u001b[0m\n",
      "\u001b[34m[99]#011train-error:0\u001b[0m\n",
      "\n",
      "2022-04-05 04:11:46 Uploading - Uploading generated training model\n",
      "2022-04-05 04:11:46 Completed - Training job completed\n",
      "Training seconds: 77\n",
      "Billable seconds: 77\n"
     ]
    }
   ],
   "source": [
    "xgb.fit({'train': s3_input_train})"
   ]
  },
  {
   "cell_type": "markdown",
   "metadata": {},
   "source": [
    "### Deploying The Predictor"
   ]
  },
  {
   "cell_type": "code",
   "execution_count": 63,
   "metadata": {},
   "outputs": [
    {
     "name": "stdout",
     "output_type": "stream",
     "text": [
      "-----!"
     ]
    }
   ],
   "source": [
    "xgb_predictor = xgb.deploy(initial_instance_count=1,\n",
    "                           instance_type='ml.m5.large')"
   ]
  },
  {
   "cell_type": "markdown",
   "metadata": {},
   "source": [
    "### Running Predictions"
   ]
  },
  {
   "cell_type": "code",
   "execution_count": 64,
   "metadata": {},
   "outputs": [
    {
     "name": "stdout",
     "output_type": "stream",
     "text": [
      "(13072,)\n"
     ]
    }
   ],
   "source": [
    "from sagemaker.serializers import CSVSerializer\n",
    "\n",
    "# load the data into an array\n",
    "test_array = test.drop(['oci_cat'], axis=1).values\n",
    "\n",
    "# set the serializer type\n",
    "xgb_predictor.serializer = CSVSerializer() \n",
    "\n",
    "# predict!\n",
    "predictions = xgb_predictor.predict(test_array).decode('utf-8') \n",
    "\n",
    "# and turn the prediction into an array\n",
    "predictions_array = np.fromstring(predictions[1:], sep=',') \n",
    "print(predictions_array.shape)"
   ]
  },
  {
   "cell_type": "markdown",
   "metadata": {},
   "source": [
    "### Evaluating The Model"
   ]
  },
  {
   "cell_type": "code",
   "execution_count": 65,
   "metadata": {},
   "outputs": [
    {
     "name": "stdout",
     "output_type": "stream",
     "text": [
      "\n",
      "Overall Classification Rate: 100.0%\n",
      "\n",
      "Predicted      Poor Condition Good Condition\n",
      "Observed\n",
      "Poor Condition 100% (6478)     0% (0)\n",
      "Good Condition  0% (0)    100% (6594) \n",
      "\n"
     ]
    }
   ],
   "source": [
    "cm = pd.crosstab(index=test['oci_cat'], \n",
    "                 columns=np.round(predictions_array), \n",
    "                 rownames=['Observed'], \n",
    "                 colnames=['Predicted'])\n",
    "tn = cm.iloc[0,0]; fn = cm.iloc[1,0]; tp = cm.iloc[1,1]; \n",
    "fp = cm.iloc[0,1]; p = (tp+tn)/(tp+tn+fp+fn)*100\n",
    "print(\"\\n{0:<20}{1:<4.1f}%\\n\".format(\"Overall Classification Rate: \", p))\n",
    "print(\"{0:<15}{1:<15}{2:>8}\".format(\"Predicted\", \"Poor Condition\", \n",
    "                                    \"Good Condition\"))\n",
    "print(\"Observed\")\n",
    "print(\"{0:<15}{1:<2.0f}% ({2:<}){3:>6.0f}% ({4:<})\".format(\"Poor Condition\", \\\n",
    "                                        tn/(tn+fn)*100,tn, fp/(tp+fp)*100, fp))\n",
    "print(\"{0:<16}{1:<1.0f}% ({2:<}){3:>7.0f}% ({4:<}) \\n\".format(\"Good Condition\", \\\n",
    "                                        fn/(tn+fn)*100,fn, tp/(tp+fp)*100, tp))"
   ]
  },
  {
   "cell_type": "markdown",
   "metadata": {},
   "source": [
    "### Terminating the Endpoint To Save on Costs"
   ]
  },
  {
   "cell_type": "code",
   "execution_count": 66,
   "metadata": {},
   "outputs": [],
   "source": [
    "# clean-up by deleteting endpoint\n",
    "xgb_predictor.delete_endpoint(delete_endpoint_config=True)"
   ]
  },
  {
   "cell_type": "markdown",
   "metadata": {},
   "source": [
    "**References**\n",
    "\n",
    "Amazon Web Services. (n.d.). *Amazon Athena.*  \n",
    "https://aws.amazon.com/athena/?whats-new-cards.sort-by=item.additionalFields.postDateTime&whats-new-cards.sort-order=desc\n",
    "\n",
    "Amazon Web Services. (n.d.). *Build, train, and deploy a machine learning model with Amazon SageMaker.*  \n",
    "https://aws.amazon.com/getting-started/hands-on/build-train-deploy-machine-learning-model-sagemaker/\n",
    "\n",
    "Fregly, C., & Barth, A. (2021). *Data Science on AWS.* O'Reilly.\n",
    "\n",
    "Garrick, D. (2021, September 12). San Diego to spend $700K assessing street conditions to spend repair\n",
    "money wisely. *The San Diego Union-Tribune.*  \n",
    "https://www.sandiegouniontribune.com/news/politics/story/2021-09-12/san-diego-to-spend-700k-assessing-street-conditions-to-spend-repair-money-wisely\n",
    "\n",
    "He, H., Bai, Y., Garcia, E. & Li, S. (2008). ADASYN: Adaptive synthetic sampling approach for imbalanced \n",
    "learning.   \n",
    "2008 IEEE International Joint Conference on Neural Networks (IEEE World Congress \n",
    "on Computational Intelligence),1322-1328.   \n",
    "https://ieeexplore.ieee.org/document/4633969\n",
    "\n",
    "Naseriparsa, M. & Kashani, M.M.R. (2014). Combination of PCA with SMOTE Resampling to Boost the Prediction Rate in Lung Cancer Dataset.  \n",
    "*International Journal of Computer Applications, 77*(3) 33-38. https://doi.org/10.5120/13376-0987"
   ]
  }
 ],
 "metadata": {
  "instance_type": "ml.t3.medium",
  "kernelspec": {
   "display_name": "Python 3 (Data Science)",
   "language": "python",
   "name": "python3__SAGEMAKER_INTERNAL__arn:aws:sagemaker:us-east-1:081325390199:image/datascience-1.0"
  },
  "language_info": {
   "codemirror_mode": {
    "name": "ipython",
    "version": 3
   },
   "file_extension": ".py",
   "mimetype": "text/x-python",
   "name": "python",
   "nbconvert_exporter": "python",
   "pygments_lexer": "ipython3",
   "version": "3.7.10"
  }
 },
 "nbformat": 4,
 "nbformat_minor": 4
}
